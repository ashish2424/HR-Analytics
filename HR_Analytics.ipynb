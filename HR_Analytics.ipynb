{
 "cells": [
  {
   "cell_type": "code",
   "execution_count": 1,
   "id": "87676674",
   "metadata": {},
   "outputs": [],
   "source": [
    "import pandas as pd\n",
    "import numpy as np\n",
    "import matplotlib.pyplot as plt\n",
    "%matplotlib inline"
   ]
  },
  {
   "cell_type": "code",
   "execution_count": 2,
   "id": "73e6a8d0",
   "metadata": {},
   "outputs": [],
   "source": [
    "hrtrain=pd.read_csv('train_LZdllcl.csv')"
   ]
  },
  {
   "cell_type": "code",
   "execution_count": 3,
   "id": "8981aee8",
   "metadata": {},
   "outputs": [],
   "source": [
    "hrtest=pd.read_csv('test_2umaH9m.csv')"
   ]
  },
  {
   "cell_type": "code",
   "execution_count": 4,
   "id": "2eabc846",
   "metadata": {},
   "outputs": [
    {
     "name": "stdout",
     "output_type": "stream",
     "text": [
      "<class 'pandas.core.frame.DataFrame'>\n",
      "RangeIndex: 54808 entries, 0 to 54807\n",
      "Data columns (total 14 columns):\n",
      " #   Column                Non-Null Count  Dtype  \n",
      "---  ------                --------------  -----  \n",
      " 0   employee_id           54808 non-null  int64  \n",
      " 1   department            54808 non-null  object \n",
      " 2   region                54808 non-null  object \n",
      " 3   education             52399 non-null  object \n",
      " 4   gender                54808 non-null  object \n",
      " 5   recruitment_channel   54808 non-null  object \n",
      " 6   no_of_trainings       54808 non-null  int64  \n",
      " 7   age                   54808 non-null  int64  \n",
      " 8   previous_year_rating  50684 non-null  float64\n",
      " 9   length_of_service     54808 non-null  int64  \n",
      " 10  KPIs_met >80%         54808 non-null  int64  \n",
      " 11  awards_won?           54808 non-null  int64  \n",
      " 12  avg_training_score    54808 non-null  int64  \n",
      " 13  is_promoted           54808 non-null  int64  \n",
      "dtypes: float64(1), int64(8), object(5)\n",
      "memory usage: 5.9+ MB\n"
     ]
    }
   ],
   "source": [
    "hrtrain.info()"
   ]
  },
  {
   "cell_type": "code",
   "execution_count": 5,
   "id": "9bc94e3c",
   "metadata": {},
   "outputs": [
    {
     "data": {
      "text/plain": [
       "count    54808.000000\n",
       "mean        63.386750\n",
       "std         13.371559\n",
       "min         39.000000\n",
       "25%         51.000000\n",
       "50%         60.000000\n",
       "75%         76.000000\n",
       "max         99.000000\n",
       "Name: avg_training_score, dtype: float64"
      ]
     },
     "execution_count": 5,
     "metadata": {},
     "output_type": "execute_result"
    }
   ],
   "source": [
    "hrtrain.avg_training_score.describe()"
   ]
  },
  {
   "cell_type": "code",
   "execution_count": 8,
   "id": "0d3c6724",
   "metadata": {},
   "outputs": [
    {
     "name": "stdout",
     "output_type": "stream",
     "text": [
      "0.45190808551707995\n",
      "-1.049649301934108\n"
     ]
    }
   ],
   "source": [
    "print(hrtrain.avg_training_score.skew())\n",
    "print(hrtrain.avg_training_score.kurt())"
   ]
  },
  {
   "cell_type": "code",
   "execution_count": 9,
   "id": "e27853f7",
   "metadata": {},
   "outputs": [
    {
     "data": {
      "text/plain": [
       "<AxesSubplot:ylabel='Frequency'>"
      ]
     },
     "execution_count": 9,
     "metadata": {},
     "output_type": "execute_result"
    },
    {
     "data": {
      "image/png": "[encoded data removed]",
      "text/plain": [
       "<Figure size 432x288 with 1 Axes>"
      ]
     },
     "metadata": {
      "needs_background": "light"
     },
     "output_type": "display_data"
    }
   ],
   "source": [
    "# Create Histogram, Boxplot & Density Curve - avg_training_score\n",
    "hrtrain.avg_training_score.plot(kind='hist')"
   ]
  },
  {
   "cell_type": "code",
   "execution_count": 10,
   "id": "c03fed79",
   "metadata": {},
   "outputs": [
    {
     "data": {
      "text/plain": [
       "<AxesSubplot:>"
      ]
     },
     "execution_count": 10,
     "metadata": {},
     "output_type": "execute_result"
    },
    {
     "data": {
      "image/png": "[encoded data removed]",
      "text/plain": [
       "<Figure size 432x288 with 1 Axes>"
      ]
     },
     "metadata": {
      "needs_background": "light"
     },
     "output_type": "display_data"
    }
   ],
   "source": [
    "hrtrain.avg_training_score.plot(kind='box',vert=False)"
   ]
  },
  {
   "cell_type": "code",
   "execution_count": 11,
   "id": "74e4842b",
   "metadata": {},
   "outputs": [
    {
     "data": {
      "text/plain": [
       "<AxesSubplot:ylabel='Density'>"
      ]
     },
     "execution_count": 11,
     "metadata": {},
     "output_type": "execute_result"
    },
    {
     "data": {
      "image/png": "[encoded data removed]",
      "text/plain": [
       "<Figure size 432x288 with 1 Axes>"
      ]
     },
     "metadata": {
      "needs_background": "light"
     },
     "output_type": "display_data"
    }
   ],
   "source": [
    "hrtrain.avg_training_score.plot(kind='density')"
   ]
  },
  {
   "cell_type": "code",
   "execution_count": 12,
   "id": "344f882e",
   "metadata": {},
   "outputs": [
    {
     "data": {
      "text/html": [
       "<div>\n",
       "<style scoped>\n",
       "    .dataframe tbody tr th:only-of-type {\n",
       "        vertical-align: middle;\n",
       "    }\n",
       "\n",
       "    .dataframe tbody tr th {\n",
       "        vertical-align: top;\n",
       "    }\n",
       "\n",
       "    .dataframe thead th {\n",
       "        text-align: right;\n",
       "    }\n",
       "</style>\n",
       "<table border=\"1\" class=\"dataframe\">\n",
       "  <thead>\n",
       "    <tr style=\"text-align: right;\">\n",
       "      <th></th>\n",
       "      <th>age</th>\n",
       "      <th>avg_training_score</th>\n",
       "    </tr>\n",
       "  </thead>\n",
       "  <tbody>\n",
       "    <tr>\n",
       "      <th>age</th>\n",
       "      <td>58.678192</td>\n",
       "      <td>-4.955455</td>\n",
       "    </tr>\n",
       "    <tr>\n",
       "      <th>avg_training_score</th>\n",
       "      <td>-4.955455</td>\n",
       "      <td>178.798603</td>\n",
       "    </tr>\n",
       "  </tbody>\n",
       "</table>\n",
       "</div>"
      ],
      "text/plain": [
       "                          age  avg_training_score\n",
       "age                 58.678192           -4.955455\n",
       "avg_training_score  -4.955455          178.798603"
      ]
     },
     "execution_count": 12,
     "metadata": {},
     "output_type": "execute_result"
    }
   ],
   "source": [
    "hrtrain[['age','avg_training_score']].cov()"
   ]
  },
  {
   "cell_type": "code",
   "execution_count": 13,
   "id": "c5fbf2a8",
   "metadata": {},
   "outputs": [
    {
     "data": {
      "text/html": [
       "<div>\n",
       "<style scoped>\n",
       "    .dataframe tbody tr th:only-of-type {\n",
       "        vertical-align: middle;\n",
       "    }\n",
       "\n",
       "    .dataframe tbody tr th {\n",
       "        vertical-align: top;\n",
       "    }\n",
       "\n",
       "    .dataframe thead th {\n",
       "        text-align: right;\n",
       "    }\n",
       "</style>\n",
       "<table border=\"1\" class=\"dataframe\">\n",
       "  <thead>\n",
       "    <tr style=\"text-align: right;\">\n",
       "      <th></th>\n",
       "      <th>age</th>\n",
       "      <th>avg_training_score</th>\n",
       "    </tr>\n",
       "  </thead>\n",
       "  <tbody>\n",
       "    <tr>\n",
       "      <th>age</th>\n",
       "      <td>1.00000</td>\n",
       "      <td>-0.04838</td>\n",
       "    </tr>\n",
       "    <tr>\n",
       "      <th>avg_training_score</th>\n",
       "      <td>-0.04838</td>\n",
       "      <td>1.00000</td>\n",
       "    </tr>\n",
       "  </tbody>\n",
       "</table>\n",
       "</div>"
      ],
      "text/plain": [
       "                        age  avg_training_score\n",
       "age                 1.00000            -0.04838\n",
       "avg_training_score -0.04838             1.00000"
      ]
     },
     "execution_count": 13,
     "metadata": {},
     "output_type": "execute_result"
    }
   ],
   "source": [
    "hrtrain[['age','avg_training_score']].corr()"
   ]
  },
  {
   "cell_type": "code",
   "execution_count": 14,
   "id": "863aa373",
   "metadata": {},
   "outputs": [
    {
     "data": {
      "text/plain": [
       "<AxesSubplot:xlabel='age', ylabel='avg_training_score'>"
      ]
     },
     "execution_count": 14,
     "metadata": {},
     "output_type": "execute_result"
    },
    {
     "data": {
      "image/png": "[encoded data removed]",
      "text/plain": [
       "<Figure size 432x288 with 1 Axes>"
      ]
     },
     "metadata": {
      "needs_background": "light"
     },
     "output_type": "display_data"
    }
   ],
   "source": [
    "hrtrain.plot(x='age',y='avg_training_score',kind='scatter')"
   ]
  },
  {
   "cell_type": "code",
   "execution_count": 15,
   "id": "3b7a8068",
   "metadata": {},
   "outputs": [
    {
     "data": {
      "text/html": [
       "<div>\n",
       "<style scoped>\n",
       "    .dataframe tbody tr th:only-of-type {\n",
       "        vertical-align: middle;\n",
       "    }\n",
       "\n",
       "    .dataframe tbody tr th {\n",
       "        vertical-align: top;\n",
       "    }\n",
       "\n",
       "    .dataframe thead th {\n",
       "        text-align: right;\n",
       "    }\n",
       "</style>\n",
       "<table border=\"1\" class=\"dataframe\">\n",
       "  <thead>\n",
       "    <tr style=\"text-align: right;\">\n",
       "      <th></th>\n",
       "      <th>employee_id</th>\n",
       "      <th>department</th>\n",
       "      <th>region</th>\n",
       "      <th>education</th>\n",
       "      <th>gender</th>\n",
       "      <th>recruitment_channel</th>\n",
       "      <th>no_of_trainings</th>\n",
       "      <th>age</th>\n",
       "      <th>previous_year_rating</th>\n",
       "      <th>length_of_service</th>\n",
       "      <th>KPIs_met &gt;80%</th>\n",
       "      <th>awards_won?</th>\n",
       "      <th>avg_training_score</th>\n",
       "      <th>is_promoted</th>\n",
       "    </tr>\n",
       "  </thead>\n",
       "  <tbody>\n",
       "    <tr>\n",
       "      <th>54803</th>\n",
       "      <td>3030</td>\n",
       "      <td>Technology</td>\n",
       "      <td>region_14</td>\n",
       "      <td>Bachelor's</td>\n",
       "      <td>m</td>\n",
       "      <td>sourcing</td>\n",
       "      <td>1</td>\n",
       "      <td>48</td>\n",
       "      <td>3.0</td>\n",
       "      <td>17</td>\n",
       "      <td>0</td>\n",
       "      <td>0</td>\n",
       "      <td>78</td>\n",
       "      <td>0</td>\n",
       "    </tr>\n",
       "    <tr>\n",
       "      <th>54804</th>\n",
       "      <td>74592</td>\n",
       "      <td>Operations</td>\n",
       "      <td>region_27</td>\n",
       "      <td>Master's &amp; above</td>\n",
       "      <td>f</td>\n",
       "      <td>other</td>\n",
       "      <td>1</td>\n",
       "      <td>37</td>\n",
       "      <td>2.0</td>\n",
       "      <td>6</td>\n",
       "      <td>0</td>\n",
       "      <td>0</td>\n",
       "      <td>56</td>\n",
       "      <td>0</td>\n",
       "    </tr>\n",
       "    <tr>\n",
       "      <th>54805</th>\n",
       "      <td>13918</td>\n",
       "      <td>Analytics</td>\n",
       "      <td>region_1</td>\n",
       "      <td>Bachelor's</td>\n",
       "      <td>m</td>\n",
       "      <td>other</td>\n",
       "      <td>1</td>\n",
       "      <td>27</td>\n",
       "      <td>5.0</td>\n",
       "      <td>3</td>\n",
       "      <td>1</td>\n",
       "      <td>0</td>\n",
       "      <td>79</td>\n",
       "      <td>0</td>\n",
       "    </tr>\n",
       "    <tr>\n",
       "      <th>54806</th>\n",
       "      <td>13614</td>\n",
       "      <td>Sales &amp; Marketing</td>\n",
       "      <td>region_9</td>\n",
       "      <td>NaN</td>\n",
       "      <td>m</td>\n",
       "      <td>sourcing</td>\n",
       "      <td>1</td>\n",
       "      <td>29</td>\n",
       "      <td>1.0</td>\n",
       "      <td>2</td>\n",
       "      <td>0</td>\n",
       "      <td>0</td>\n",
       "      <td>45</td>\n",
       "      <td>0</td>\n",
       "    </tr>\n",
       "    <tr>\n",
       "      <th>54807</th>\n",
       "      <td>51526</td>\n",
       "      <td>HR</td>\n",
       "      <td>region_22</td>\n",
       "      <td>Bachelor's</td>\n",
       "      <td>m</td>\n",
       "      <td>other</td>\n",
       "      <td>1</td>\n",
       "      <td>27</td>\n",
       "      <td>1.0</td>\n",
       "      <td>5</td>\n",
       "      <td>0</td>\n",
       "      <td>0</td>\n",
       "      <td>49</td>\n",
       "      <td>0</td>\n",
       "    </tr>\n",
       "  </tbody>\n",
       "</table>\n",
       "</div>"
      ],
      "text/plain": [
       "       employee_id         department     region         education gender  \\\n",
       "54803         3030         Technology  region_14        Bachelor's      m   \n",
       "54804        74592         Operations  region_27  Master's & above      f   \n",
       "54805        13918          Analytics   region_1        Bachelor's      m   \n",
       "54806        13614  Sales & Marketing   region_9               NaN      m   \n",
       "54807        51526                 HR  region_22        Bachelor's      m   \n",
       "\n",
       "      recruitment_channel  no_of_trainings  age  previous_year_rating  \\\n",
       "54803            sourcing                1   48                   3.0   \n",
       "54804               other                1   37                   2.0   \n",
       "54805               other                1   27                   5.0   \n",
       "54806            sourcing                1   29                   1.0   \n",
       "54807               other                1   27                   1.0   \n",
       "\n",
       "       length_of_service  KPIs_met >80%  awards_won?  avg_training_score  \\\n",
       "54803                 17              0            0                  78   \n",
       "54804                  6              0            0                  56   \n",
       "54805                  3              1            0                  79   \n",
       "54806                  2              0            0                  45   \n",
       "54807                  5              0            0                  49   \n",
       "\n",
       "       is_promoted  \n",
       "54803            0  \n",
       "54804            0  \n",
       "54805            0  \n",
       "54806            0  \n",
       "54807            0  "
      ]
     },
     "execution_count": 15,
     "metadata": {},
     "output_type": "execute_result"
    }
   ],
   "source": [
    "hrtrain.tail(5)"
   ]
  },
  {
   "cell_type": "code",
   "execution_count": 16,
   "id": "f9ff3ded",
   "metadata": {},
   "outputs": [],
   "source": [
    "# Non Numeric Categorical Data - Frequency Counts and Cross Tabulation\n",
    "# Cross tabulation is frequency table of 2 non numeric categorical variables"
   ]
  },
  {
   "cell_type": "code",
   "execution_count": 17,
   "id": "f334032d",
   "metadata": {},
   "outputs": [
    {
     "data": {
      "text/plain": [
       "Bachelor's          36669\n",
       "Master's & above    14925\n",
       "NaN                  2409\n",
       "Below Secondary       805\n",
       "Name: education, dtype: int64"
      ]
     },
     "execution_count": 17,
     "metadata": {},
     "output_type": "execute_result"
    }
   ],
   "source": [
    "# How many types of education are there?\n",
    "hrtrain.education.value_counts(dropna=False)"
   ]
  },
  {
   "cell_type": "code",
   "execution_count": 18,
   "id": "20df3dd7",
   "metadata": {},
   "outputs": [
    {
     "data": {
      "text/plain": [
       "m    38496\n",
       "f    16312\n",
       "Name: gender, dtype: int64"
      ]
     },
     "execution_count": 18,
     "metadata": {},
     "output_type": "execute_result"
    }
   ],
   "source": [
    "# Frequency counts of variable gender\n",
    "hrtrain.gender.value_counts(dropna=False)"
   ]
  },
  {
   "cell_type": "code",
   "execution_count": 19,
   "id": "1d93a320",
   "metadata": {},
   "outputs": [
    {
     "data": {
      "text/plain": [
       "Sales & Marketing    16840\n",
       "Operations           11348\n",
       "Technology            7138\n",
       "Procurement           7138\n",
       "Analytics             5352\n",
       "Finance               2536\n",
       "HR                    2418\n",
       "Legal                 1039\n",
       "R&D                    999\n",
       "Name: department, dtype: int64"
      ]
     },
     "execution_count": 19,
     "metadata": {},
     "output_type": "execute_result"
    }
   ],
   "source": [
    "# Frequency Count of department\n",
    "hrtrain.department.value_counts()"
   ]
  },
  {
   "cell_type": "code",
   "execution_count": 20,
   "id": "8bedf37a",
   "metadata": {},
   "outputs": [
    {
     "data": {
      "text/html": [
       "<div>\n",
       "<style scoped>\n",
       "    .dataframe tbody tr th:only-of-type {\n",
       "        vertical-align: middle;\n",
       "    }\n",
       "\n",
       "    .dataframe tbody tr th {\n",
       "        vertical-align: top;\n",
       "    }\n",
       "\n",
       "    .dataframe thead th {\n",
       "        text-align: right;\n",
       "    }\n",
       "</style>\n",
       "<table border=\"1\" class=\"dataframe\">\n",
       "  <thead>\n",
       "    <tr style=\"text-align: right;\">\n",
       "      <th>gender</th>\n",
       "      <th>f</th>\n",
       "      <th>m</th>\n",
       "    </tr>\n",
       "    <tr>\n",
       "      <th>department</th>\n",
       "      <th></th>\n",
       "      <th></th>\n",
       "    </tr>\n",
       "  </thead>\n",
       "  <tbody>\n",
       "    <tr>\n",
       "      <th>Analytics</th>\n",
       "      <td>513</td>\n",
       "      <td>4839</td>\n",
       "    </tr>\n",
       "    <tr>\n",
       "      <th>Finance</th>\n",
       "      <td>681</td>\n",
       "      <td>1855</td>\n",
       "    </tr>\n",
       "    <tr>\n",
       "      <th>HR</th>\n",
       "      <td>1006</td>\n",
       "      <td>1412</td>\n",
       "    </tr>\n",
       "    <tr>\n",
       "      <th>Legal</th>\n",
       "      <td>149</td>\n",
       "      <td>890</td>\n",
       "    </tr>\n",
       "    <tr>\n",
       "      <th>Operations</th>\n",
       "      <td>4677</td>\n",
       "      <td>6671</td>\n",
       "    </tr>\n",
       "    <tr>\n",
       "      <th>Procurement</th>\n",
       "      <td>3287</td>\n",
       "      <td>3851</td>\n",
       "    </tr>\n",
       "    <tr>\n",
       "      <th>R&amp;D</th>\n",
       "      <td>57</td>\n",
       "      <td>942</td>\n",
       "    </tr>\n",
       "    <tr>\n",
       "      <th>Sales &amp; Marketing</th>\n",
       "      <td>3154</td>\n",
       "      <td>13686</td>\n",
       "    </tr>\n",
       "    <tr>\n",
       "      <th>Technology</th>\n",
       "      <td>2788</td>\n",
       "      <td>4350</td>\n",
       "    </tr>\n",
       "  </tbody>\n",
       "</table>\n",
       "</div>"
      ],
      "text/plain": [
       "gender                f      m\n",
       "department                    \n",
       "Analytics           513   4839\n",
       "Finance             681   1855\n",
       "HR                 1006   1412\n",
       "Legal               149    890\n",
       "Operations         4677   6671\n",
       "Procurement        3287   3851\n",
       "R&D                  57    942\n",
       "Sales & Marketing  3154  13686\n",
       "Technology         2788   4350"
      ]
     },
     "execution_count": 20,
     "metadata": {},
     "output_type": "execute_result"
    }
   ],
   "source": [
    "# Departmentwise Gender? # Cross tabulation\n",
    "pd.crosstab(hrtrain.department,hrtrain.gender)"
   ]
  },
  {
   "cell_type": "code",
   "execution_count": 21,
   "id": "0846795a",
   "metadata": {},
   "outputs": [
    {
     "data": {
      "text/html": [
       "<div>\n",
       "<style scoped>\n",
       "    .dataframe tbody tr th:only-of-type {\n",
       "        vertical-align: middle;\n",
       "    }\n",
       "\n",
       "    .dataframe tbody tr th {\n",
       "        vertical-align: top;\n",
       "    }\n",
       "\n",
       "    .dataframe thead th {\n",
       "        text-align: right;\n",
       "    }\n",
       "</style>\n",
       "<table border=\"1\" class=\"dataframe\">\n",
       "  <thead>\n",
       "    <tr style=\"text-align: right;\">\n",
       "      <th>education</th>\n",
       "      <th>Bachelor's</th>\n",
       "      <th>Below Secondary</th>\n",
       "      <th>Master's &amp; above</th>\n",
       "    </tr>\n",
       "    <tr>\n",
       "      <th>department</th>\n",
       "      <th></th>\n",
       "      <th></th>\n",
       "      <th></th>\n",
       "    </tr>\n",
       "  </thead>\n",
       "  <tbody>\n",
       "    <tr>\n",
       "      <th>Analytics</th>\n",
       "      <td>3978</td>\n",
       "      <td>0</td>\n",
       "      <td>1037</td>\n",
       "    </tr>\n",
       "    <tr>\n",
       "      <th>Finance</th>\n",
       "      <td>1895</td>\n",
       "      <td>106</td>\n",
       "      <td>499</td>\n",
       "    </tr>\n",
       "    <tr>\n",
       "      <th>HR</th>\n",
       "      <td>1525</td>\n",
       "      <td>128</td>\n",
       "      <td>733</td>\n",
       "    </tr>\n",
       "    <tr>\n",
       "      <th>Legal</th>\n",
       "      <td>814</td>\n",
       "      <td>65</td>\n",
       "      <td>156</td>\n",
       "    </tr>\n",
       "    <tr>\n",
       "      <th>Operations</th>\n",
       "      <td>7781</td>\n",
       "      <td>176</td>\n",
       "      <td>3165</td>\n",
       "    </tr>\n",
       "    <tr>\n",
       "      <th>Procurement</th>\n",
       "      <td>4393</td>\n",
       "      <td>129</td>\n",
       "      <td>2544</td>\n",
       "    </tr>\n",
       "    <tr>\n",
       "      <th>R&amp;D</th>\n",
       "      <td>542</td>\n",
       "      <td>0</td>\n",
       "      <td>429</td>\n",
       "    </tr>\n",
       "    <tr>\n",
       "      <th>Sales &amp; Marketing</th>\n",
       "      <td>11099</td>\n",
       "      <td>0</td>\n",
       "      <td>4166</td>\n",
       "    </tr>\n",
       "    <tr>\n",
       "      <th>Technology</th>\n",
       "      <td>4642</td>\n",
       "      <td>201</td>\n",
       "      <td>2196</td>\n",
       "    </tr>\n",
       "  </tbody>\n",
       "</table>\n",
       "</div>"
      ],
      "text/plain": [
       "education          Bachelor's  Below Secondary  Master's & above\n",
       "department                                                      \n",
       "Analytics                3978                0              1037\n",
       "Finance                  1895              106               499\n",
       "HR                       1525              128               733\n",
       "Legal                     814               65               156\n",
       "Operations               7781              176              3165\n",
       "Procurement              4393              129              2544\n",
       "R&D                       542                0               429\n",
       "Sales & Marketing       11099                0              4166\n",
       "Technology               4642              201              2196"
      ]
     },
     "execution_count": 21,
     "metadata": {},
     "output_type": "execute_result"
    }
   ],
   "source": [
    "# Departmentwise education?\n",
    "pd.crosstab(hrtrain.department,hrtrain.education)"
   ]
  },
  {
   "cell_type": "code",
   "execution_count": 22,
   "id": "63dca658",
   "metadata": {},
   "outputs": [
    {
     "data": {
      "text/plain": [
       "3.0    18618\n",
       "5.0    11741\n",
       "4.0     9877\n",
       "1.0     6223\n",
       "2.0     4225\n",
       "NaN     4124\n",
       "Name: previous_year_rating, dtype: int64"
      ]
     },
     "execution_count": 22,
     "metadata": {},
     "output_type": "execute_result"
    }
   ],
   "source": [
    "# Frequency count of previous_year_rating\n",
    "hrtrain.previous_year_rating.value_counts(dropna=False)"
   ]
  },
  {
   "cell_type": "code",
   "execution_count": 23,
   "id": "2d60900d",
   "metadata": {},
   "outputs": [
    {
     "data": {
      "text/html": [
       "<div>\n",
       "<style scoped>\n",
       "    .dataframe tbody tr th:only-of-type {\n",
       "        vertical-align: middle;\n",
       "    }\n",
       "\n",
       "    .dataframe tbody tr th {\n",
       "        vertical-align: top;\n",
       "    }\n",
       "\n",
       "    .dataframe thead th {\n",
       "        text-align: right;\n",
       "    }\n",
       "</style>\n",
       "<table border=\"1\" class=\"dataframe\">\n",
       "  <thead>\n",
       "    <tr style=\"text-align: right;\">\n",
       "      <th>gender</th>\n",
       "      <th>f</th>\n",
       "      <th>m</th>\n",
       "    </tr>\n",
       "    <tr>\n",
       "      <th>previous_year_rating</th>\n",
       "      <th></th>\n",
       "      <th></th>\n",
       "    </tr>\n",
       "  </thead>\n",
       "  <tbody>\n",
       "    <tr>\n",
       "      <th>1.0</th>\n",
       "      <td>1661</td>\n",
       "      <td>4562</td>\n",
       "    </tr>\n",
       "    <tr>\n",
       "      <th>2.0</th>\n",
       "      <td>1221</td>\n",
       "      <td>3004</td>\n",
       "    </tr>\n",
       "    <tr>\n",
       "      <th>3.0</th>\n",
       "      <td>5633</td>\n",
       "      <td>12985</td>\n",
       "    </tr>\n",
       "    <tr>\n",
       "      <th>4.0</th>\n",
       "      <td>3037</td>\n",
       "      <td>6840</td>\n",
       "    </tr>\n",
       "    <tr>\n",
       "      <th>5.0</th>\n",
       "      <td>3602</td>\n",
       "      <td>8139</td>\n",
       "    </tr>\n",
       "  </tbody>\n",
       "</table>\n",
       "</div>"
      ],
      "text/plain": [
       "gender                   f      m\n",
       "previous_year_rating             \n",
       "1.0                   1661   4562\n",
       "2.0                   1221   3004\n",
       "3.0                   5633  12985\n",
       "4.0                   3037   6840\n",
       "5.0                   3602   8139"
      ]
     },
     "execution_count": 23,
     "metadata": {},
     "output_type": "execute_result"
    }
   ],
   "source": [
    "# Cross Tabulation of previous_year_rating and gender\n",
    "pd.crosstab(hrtrain.previous_year_rating,hrtrain.gender)"
   ]
  },
  {
   "cell_type": "code",
   "execution_count": 24,
   "id": "ef2b6314",
   "metadata": {},
   "outputs": [
    {
     "data": {
      "text/plain": [
       "gender\n",
       "f    63.889897\n",
       "m    63.173550\n",
       "Name: avg_training_score, dtype: float64"
      ]
     },
     "execution_count": 24,
     "metadata": {},
     "output_type": "execute_result"
    }
   ],
   "source": [
    "# Who performed well in terms of avg_training_score, male or female?\n",
    "hrtrain.avg_training_score.groupby(hrtrain.gender).mean()\n",
    "# leftside of groupby is Numerical\n",
    "# rightside within brackets of groupby is Categorical(Non Numeric)\n",
    "# Statistical Function must be speciifed median, std, skew, kurt, etc."
   ]
  },
  {
   "cell_type": "code",
   "execution_count": 25,
   "id": "681864b2",
   "metadata": {},
   "outputs": [
    {
     "data": {
      "text/plain": [
       "gender\n",
       "f    33.0\n",
       "m    33.0\n",
       "Name: age, dtype: float64"
      ]
     },
     "execution_count": 25,
     "metadata": {},
     "output_type": "execute_result"
    }
   ],
   "source": [
    "# What is the median age of male and female employees?\n",
    "hrtrain.age.groupby(hrtrain.gender).median()"
   ]
  },
  {
   "cell_type": "code",
   "execution_count": 26,
   "id": "ae2e600c",
   "metadata": {},
   "outputs": [
    {
     "data": {
      "text/plain": [
       "previous_year_rating\n",
       "1.0    60.064760\n",
       "2.0    61.924024\n",
       "3.0    64.197819\n",
       "4.0    64.119773\n",
       "5.0    63.781364\n",
       "Name: avg_training_score, dtype: float64"
      ]
     },
     "execution_count": 26,
     "metadata": {},
     "output_type": "execute_result"
    }
   ],
   "source": [
    "# What is the Average avg_training_score for different previous_year_rating?\n",
    "hrtrain.avg_training_score.groupby(hrtrain.previous_year_rating).mean()"
   ]
  },
  {
   "cell_type": "code",
   "execution_count": 27,
   "id": "8c73ddf3",
   "metadata": {},
   "outputs": [
    {
     "data": {
      "text/plain": [
       "previous_year_rating\n",
       "1.0    6.223686\n",
       "2.0    6.241893\n",
       "3.0    6.309324\n",
       "4.0    6.193986\n",
       "5.0    6.269142\n",
       "Name: length_of_service, dtype: float64"
      ]
     },
     "execution_count": 27,
     "metadata": {},
     "output_type": "execute_result"
    }
   ],
   "source": [
    "# What is the Average length_of_service of different previous_year_rating?\n",
    "hrtrain.length_of_service.groupby(hrtrain.previous_year_rating).mean()"
   ]
  },
  {
   "cell_type": "code",
   "execution_count": 28,
   "id": "f5528798",
   "metadata": {},
   "outputs": [
    {
     "data": {
      "text/plain": [
       "0    50140\n",
       "1     4668\n",
       "Name: is_promoted, dtype: int64"
      ]
     },
     "execution_count": 28,
     "metadata": {},
     "output_type": "execute_result"
    }
   ],
   "source": [
    "# Dependent Variable - is_promoted (0/1 No/Yes)\n",
    "hrtrain.is_promoted.value_counts()"
   ]
  },
  {
   "cell_type": "code",
   "execution_count": 29,
   "id": "e9e7816d",
   "metadata": {},
   "outputs": [
    {
     "data": {
      "text/plain": [
       "is_promoted\n",
       "0    62.647686\n",
       "1    71.325193\n",
       "Name: avg_training_score, dtype: float64"
      ]
     },
     "execution_count": 29,
     "metadata": {},
     "output_type": "execute_result"
    }
   ],
   "source": [
    "# What is the Average avg_training_score of is_promoted 0 & 1?\n",
    "hrtrain.avg_training_score.groupby(hrtrain.is_promoted).mean()"
   ]
  },
  {
   "cell_type": "code",
   "execution_count": 30,
   "id": "96da8b86",
   "metadata": {},
   "outputs": [
    {
     "data": {
      "text/plain": [
       "is_promoted\n",
       "0    5.879398\n",
       "1    5.716367\n",
       "Name: length_of_service, dtype: float64"
      ]
     },
     "execution_count": 30,
     "metadata": {},
     "output_type": "execute_result"
    }
   ],
   "source": [
    "# What is the Average length_of_service of is_promoted 0 & 1?\n",
    "hrtrain.length_of_service.groupby(hrtrain.is_promoted).mean()"
   ]
  },
  {
   "cell_type": "code",
   "execution_count": 31,
   "id": "6238ad01",
   "metadata": {},
   "outputs": [
    {
     "data": {
      "text/plain": [
       "is_promoted  gender\n",
       "0            f         63.089256\n",
       "             m         62.461963\n",
       "1            f         71.991820\n",
       "             m         71.019681\n",
       "Name: avg_training_score, dtype: float64"
      ]
     },
     "execution_count": 31,
     "metadata": {},
     "output_type": "execute_result"
    }
   ],
   "source": [
    "# 2 Categorical Variables in groupby function\n",
    "# What is the Average avg_training_score of is_promoted and gender?\n",
    "hrtrain.avg_training_score.groupby([hrtrain.is_promoted,\n",
    "                                   hrtrain.gender]).mean()"
   ]
  },
  {
   "cell_type": "code",
   "execution_count": 32,
   "id": "3f8fb7b0",
   "metadata": {},
   "outputs": [
    {
     "data": {
      "text/plain": [
       "awards_won?  is_promoted\n",
       "0            0              5.896963\n",
       "             1              5.828912\n",
       "1            0              4.658228\n",
       "             1              4.889088\n",
       "Name: length_of_service, dtype: float64"
      ]
     },
     "execution_count": 32,
     "metadata": {},
     "output_type": "execute_result"
    }
   ],
   "source": [
    "# What is the Average length_of_service of awards_won? and is_promoted?\n",
    "hrtrain.length_of_service.groupby([hrtrain['awards_won?'],\n",
    "                                  hrtrain.is_promoted]).mean()"
   ]
  },
  {
   "cell_type": "code",
   "execution_count": 33,
   "id": "84b23b6f",
   "metadata": {},
   "outputs": [
    {
     "data": {
      "text/plain": [
       "recruitment_channel\n",
       "other       1.0\n",
       "referred    1.0\n",
       "sourcing    1.0\n",
       "Name: no_of_trainings, dtype: float64"
      ]
     },
     "execution_count": 33,
     "metadata": {},
     "output_type": "execute_result"
    }
   ],
   "source": [
    "# What is the Average no_of_trainings for different recruitment_channel?\n",
    "hrtrain.no_of_trainings.groupby(hrtrain.recruitment_channel).median()"
   ]
  },
  {
   "cell_type": "code",
   "execution_count": 34,
   "id": "428d1182",
   "metadata": {},
   "outputs": [
    {
     "data": {
      "text/html": [
       "<div>\n",
       "<style scoped>\n",
       "    .dataframe tbody tr th:only-of-type {\n",
       "        vertical-align: middle;\n",
       "    }\n",
       "\n",
       "    .dataframe tbody tr th {\n",
       "        vertical-align: top;\n",
       "    }\n",
       "\n",
       "    .dataframe thead th {\n",
       "        text-align: right;\n",
       "    }\n",
       "</style>\n",
       "<table border=\"1\" class=\"dataframe\">\n",
       "  <thead>\n",
       "    <tr style=\"text-align: right;\">\n",
       "      <th>gender</th>\n",
       "      <th>f</th>\n",
       "      <th>m</th>\n",
       "    </tr>\n",
       "    <tr>\n",
       "      <th>is_promoted</th>\n",
       "      <th></th>\n",
       "      <th></th>\n",
       "    </tr>\n",
       "  </thead>\n",
       "  <tbody>\n",
       "    <tr>\n",
       "      <th>0</th>\n",
       "      <td>14845</td>\n",
       "      <td>35295</td>\n",
       "    </tr>\n",
       "    <tr>\n",
       "      <th>1</th>\n",
       "      <td>1467</td>\n",
       "      <td>3201</td>\n",
       "    </tr>\n",
       "  </tbody>\n",
       "</table>\n",
       "</div>"
      ],
      "text/plain": [
       "gender           f      m\n",
       "is_promoted              \n",
       "0            14845  35295\n",
       "1             1467   3201"
      ]
     },
     "execution_count": 34,
     "metadata": {},
     "output_type": "execute_result"
    }
   ],
   "source": [
    "pd.crosstab(hrtrain.is_promoted,hrtrain.gender)"
   ]
  },
  {
   "cell_type": "code",
   "execution_count": 35,
   "id": "7d6d0e89",
   "metadata": {},
   "outputs": [
    {
     "data": {
      "text/html": [
       "<div>\n",
       "<style scoped>\n",
       "    .dataframe tbody tr th:only-of-type {\n",
       "        vertical-align: middle;\n",
       "    }\n",
       "\n",
       "    .dataframe tbody tr th {\n",
       "        vertical-align: top;\n",
       "    }\n",
       "\n",
       "    .dataframe thead th {\n",
       "        text-align: right;\n",
       "    }\n",
       "</style>\n",
       "<table border=\"1\" class=\"dataframe\">\n",
       "  <thead>\n",
       "    <tr style=\"text-align: right;\">\n",
       "      <th>gender</th>\n",
       "      <th>f</th>\n",
       "      <th>m</th>\n",
       "    </tr>\n",
       "    <tr>\n",
       "      <th>is_promoted</th>\n",
       "      <th></th>\n",
       "      <th></th>\n",
       "    </tr>\n",
       "  </thead>\n",
       "  <tbody>\n",
       "    <tr>\n",
       "      <th>0</th>\n",
       "      <td>0.270855</td>\n",
       "      <td>0.643975</td>\n",
       "    </tr>\n",
       "    <tr>\n",
       "      <th>1</th>\n",
       "      <td>0.026766</td>\n",
       "      <td>0.058404</td>\n",
       "    </tr>\n",
       "  </tbody>\n",
       "</table>\n",
       "</div>"
      ],
      "text/plain": [
       "gender              f         m\n",
       "is_promoted                    \n",
       "0            0.270855  0.643975\n",
       "1            0.026766  0.058404"
      ]
     },
     "execution_count": 35,
     "metadata": {},
     "output_type": "execute_result"
    }
   ],
   "source": [
    "pd.crosstab(hrtrain.is_promoted,hrtrain.gender,normalize=True)"
   ]
  },
  {
   "cell_type": "code",
   "execution_count": 36,
   "id": "7c594445",
   "metadata": {},
   "outputs": [
    {
     "name": "stdout",
     "output_type": "stream",
     "text": [
      "The percentage of females promoted: 9.0\n",
      "The percentage of males promoted: 8.0\n"
     ]
    }
   ],
   "source": [
    "# proprtion of females and males promoted to respective population\n",
    "print(\"The percentage of females promoted:\",np.round((1467/16312)*100))\n",
    "print(\"The percentage of males promoted:\", np.round((3201/38496)*100))"
   ]
  },
  {
   "cell_type": "code",
   "execution_count": 37,
   "id": "f787dcfb",
   "metadata": {},
   "outputs": [
    {
     "data": {
      "text/html": [
       "<div>\n",
       "<style scoped>\n",
       "    .dataframe tbody tr th:only-of-type {\n",
       "        vertical-align: middle;\n",
       "    }\n",
       "\n",
       "    .dataframe tbody tr th {\n",
       "        vertical-align: top;\n",
       "    }\n",
       "\n",
       "    .dataframe thead th {\n",
       "        text-align: right;\n",
       "    }\n",
       "</style>\n",
       "<table border=\"1\" class=\"dataframe\">\n",
       "  <thead>\n",
       "    <tr style=\"text-align: right;\">\n",
       "      <th>is_promoted</th>\n",
       "      <th>0</th>\n",
       "      <th>1</th>\n",
       "    </tr>\n",
       "    <tr>\n",
       "      <th>department</th>\n",
       "      <th></th>\n",
       "      <th></th>\n",
       "    </tr>\n",
       "  </thead>\n",
       "  <tbody>\n",
       "    <tr>\n",
       "      <th>Analytics</th>\n",
       "      <td>90.0</td>\n",
       "      <td>10.0</td>\n",
       "    </tr>\n",
       "    <tr>\n",
       "      <th>Finance</th>\n",
       "      <td>92.0</td>\n",
       "      <td>8.0</td>\n",
       "    </tr>\n",
       "    <tr>\n",
       "      <th>HR</th>\n",
       "      <td>94.0</td>\n",
       "      <td>6.0</td>\n",
       "    </tr>\n",
       "    <tr>\n",
       "      <th>Legal</th>\n",
       "      <td>95.0</td>\n",
       "      <td>5.0</td>\n",
       "    </tr>\n",
       "    <tr>\n",
       "      <th>Operations</th>\n",
       "      <td>91.0</td>\n",
       "      <td>9.0</td>\n",
       "    </tr>\n",
       "    <tr>\n",
       "      <th>Procurement</th>\n",
       "      <td>90.0</td>\n",
       "      <td>10.0</td>\n",
       "    </tr>\n",
       "    <tr>\n",
       "      <th>R&amp;D</th>\n",
       "      <td>93.0</td>\n",
       "      <td>7.0</td>\n",
       "    </tr>\n",
       "    <tr>\n",
       "      <th>Sales &amp; Marketing</th>\n",
       "      <td>93.0</td>\n",
       "      <td>7.0</td>\n",
       "    </tr>\n",
       "    <tr>\n",
       "      <th>Technology</th>\n",
       "      <td>89.0</td>\n",
       "      <td>11.0</td>\n",
       "    </tr>\n",
       "    <tr>\n",
       "      <th>All</th>\n",
       "      <td>91.0</td>\n",
       "      <td>9.0</td>\n",
       "    </tr>\n",
       "  </tbody>\n",
       "</table>\n",
       "</div>"
      ],
      "text/plain": [
       "is_promoted           0     1\n",
       "department                   \n",
       "Analytics          90.0  10.0\n",
       "Finance            92.0   8.0\n",
       "HR                 94.0   6.0\n",
       "Legal              95.0   5.0\n",
       "Operations         91.0   9.0\n",
       "Procurement        90.0  10.0\n",
       "R&D                93.0   7.0\n",
       "Sales & Marketing  93.0   7.0\n",
       "Technology         89.0  11.0\n",
       "All                91.0   9.0"
      ]
     },
     "execution_count": 37,
     "metadata": {},
     "output_type": "execute_result"
    }
   ],
   "source": [
    "# Proportion of Promotions in Departments\n",
    "np.round(pd.crosstab(hrtrain.department,hrtrain.is_promoted,margins=True,\n",
    "           normalize='index'),decimals=2)*100"
   ]
  },
  {
   "cell_type": "code",
   "execution_count": 38,
   "id": "398767ab",
   "metadata": {},
   "outputs": [
    {
     "data": {
      "text/plain": [
       "<AxesSubplot:xlabel='department'>"
      ]
     },
     "execution_count": 38,
     "metadata": {},
     "output_type": "execute_result"
    },
    {
     "data": {
      "image/png": "[encoded data removed]",
      "text/plain": [
       "<Figure size 432x288 with 1 Axes>"
      ]
     },
     "metadata": {
      "needs_background": "light"
     },
     "output_type": "display_data"
    }
   ],
   "source": [
    "(np.round(pd.crosstab(hrtrain.department,hrtrain.is_promoted,margins=True,\n",
    "           normalize='index'),decimals=2)*100).plot(kind='bar',\n",
    "                                                   stacked=True)"
   ]
  },
  {
   "cell_type": "code",
   "execution_count": 39,
   "id": "1b2686fb",
   "metadata": {},
   "outputs": [
    {
     "data": {
      "text/plain": [
       "count    54808.000000\n",
       "mean        63.386750\n",
       "std         13.371559\n",
       "min         39.000000\n",
       "25%         51.000000\n",
       "50%         60.000000\n",
       "75%         76.000000\n",
       "max         99.000000\n",
       "Name: avg_training_score, dtype: float64"
      ]
     },
     "execution_count": 39,
     "metadata": {},
     "output_type": "execute_result"
    }
   ],
   "source": [
    "hrtrain.avg_training_score.describe()"
   ]
  },
  {
   "cell_type": "code",
   "execution_count": 40,
   "id": "012365ce",
   "metadata": {},
   "outputs": [
    {
     "data": {
      "text/plain": [
       "Bad        25868\n",
       "Average    18416\n",
       "Good       10524\n",
       "dtype: int64"
      ]
     },
     "execution_count": 40,
     "metadata": {},
     "output_type": "execute_result"
    }
   ],
   "source": [
    "pd.cut(np.array(hrtrain.avg_training_score),3,\n",
    "       labels=['Bad','Average','Good']).value_counts()"
   ]
  },
  {
   "cell_type": "code",
   "execution_count": 41,
   "id": "deb9b58b",
   "metadata": {},
   "outputs": [],
   "source": [
    "bins=[29,39,49,59,69,79,89,99]\n",
    "hrtrain['bins']=pd.cut(hrtrain.avg_training_score,bins)"
   ]
  },
  {
   "cell_type": "code",
   "execution_count": 42,
   "id": "9b675eaa",
   "metadata": {},
   "outputs": [
    {
     "data": {
      "text/plain": [
       "(29, 39]        2\n",
       "(39, 49]     9285\n",
       "(49, 59]    16581\n",
       "(59, 69]    11073\n",
       "(69, 79]     7343\n",
       "(79, 89]     9760\n",
       "(89, 99]      764\n",
       "Name: bins, dtype: int64"
      ]
     },
     "execution_count": 42,
     "metadata": {},
     "output_type": "execute_result"
    }
   ],
   "source": [
    "hrtrain.bins.value_counts().sort_index()"
   ]
  },
  {
   "cell_type": "code",
   "execution_count": 43,
   "id": "a8ecbe79",
   "metadata": {},
   "outputs": [],
   "source": [
    "bins=[0,5,10,15,20,25,30,35,40]\n",
    "hrtrain['servicebins']=pd.cut(hrtrain.length_of_service,bins)"
   ]
  },
  {
   "cell_type": "code",
   "execution_count": 44,
   "id": "5e10cabd",
   "metadata": {},
   "outputs": [
    {
     "data": {
      "text/plain": [
       "(0, 5]      30932\n",
       "(5, 10]     17990\n",
       "(10, 15]     3539\n",
       "(15, 20]     1829\n",
       "(20, 25]      325\n",
       "(25, 30]      149\n",
       "(30, 35]       43\n",
       "(35, 40]        1\n",
       "Name: servicebins, dtype: int64"
      ]
     },
     "execution_count": 44,
     "metadata": {},
     "output_type": "execute_result"
    }
   ],
   "source": [
    "hrtrain.servicebins.value_counts().sort_index()"
   ]
  },
  {
   "cell_type": "code",
   "execution_count": 45,
   "id": "764b0061",
   "metadata": {},
   "outputs": [
    {
     "data": {
      "text/plain": [
       "Index(['employee_id', 'department', 'region', 'education', 'gender',\n",
       "       'recruitment_channel', 'no_of_trainings', 'age', 'previous_year_rating',\n",
       "       'length_of_service', 'KPIs_met >80%', 'awards_won?',\n",
       "       'avg_training_score', 'is_promoted', 'bins', 'servicebins'],\n",
       "      dtype='object')"
      ]
     },
     "execution_count": 45,
     "metadata": {},
     "output_type": "execute_result"
    }
   ],
   "source": [
    "hrtrain.columns"
   ]
  },
  {
   "cell_type": "code",
   "execution_count": 46,
   "id": "eece6530",
   "metadata": {},
   "outputs": [
    {
     "data": {
      "text/html": [
       "<div>\n",
       "<style scoped>\n",
       "    .dataframe tbody tr th:only-of-type {\n",
       "        vertical-align: middle;\n",
       "    }\n",
       "\n",
       "    .dataframe tbody tr th {\n",
       "        vertical-align: top;\n",
       "    }\n",
       "\n",
       "    .dataframe thead th {\n",
       "        text-align: right;\n",
       "    }\n",
       "</style>\n",
       "<table border=\"1\" class=\"dataframe\">\n",
       "  <thead>\n",
       "    <tr style=\"text-align: right;\">\n",
       "      <th></th>\n",
       "      <th>no_of_trainings</th>\n",
       "      <th>age</th>\n",
       "      <th>length_of_service</th>\n",
       "      <th>avg_training_score</th>\n",
       "    </tr>\n",
       "  </thead>\n",
       "  <tbody>\n",
       "    <tr>\n",
       "      <th>no_of_trainings</th>\n",
       "      <td>0.371203</td>\n",
       "      <td>-0.379329</td>\n",
       "      <td>-0.148832</td>\n",
       "      <td>0.346378</td>\n",
       "    </tr>\n",
       "    <tr>\n",
       "      <th>age</th>\n",
       "      <td>-0.379329</td>\n",
       "      <td>58.678192</td>\n",
       "      <td>21.468711</td>\n",
       "      <td>-4.955455</td>\n",
       "    </tr>\n",
       "    <tr>\n",
       "      <th>length_of_service</th>\n",
       "      <td>-0.148832</td>\n",
       "      <td>21.468711</td>\n",
       "      <td>18.191028</td>\n",
       "      <td>-2.174143</td>\n",
       "    </tr>\n",
       "    <tr>\n",
       "      <th>avg_training_score</th>\n",
       "      <td>0.346378</td>\n",
       "      <td>-4.955455</td>\n",
       "      <td>-2.174143</td>\n",
       "      <td>178.798603</td>\n",
       "    </tr>\n",
       "  </tbody>\n",
       "</table>\n",
       "</div>"
      ],
      "text/plain": [
       "                    no_of_trainings        age  length_of_service  \\\n",
       "no_of_trainings            0.371203  -0.379329          -0.148832   \n",
       "age                       -0.379329  58.678192          21.468711   \n",
       "length_of_service         -0.148832  21.468711          18.191028   \n",
       "avg_training_score         0.346378  -4.955455          -2.174143   \n",
       "\n",
       "                    avg_training_score  \n",
       "no_of_trainings               0.346378  \n",
       "age                          -4.955455  \n",
       "length_of_service            -2.174143  \n",
       "avg_training_score          178.798603  "
      ]
     },
     "execution_count": 46,
     "metadata": {},
     "output_type": "execute_result"
    }
   ],
   "source": [
    "hrtrain[['no_of_trainings','age','length_of_service',\n",
    "        'avg_training_score']].cov()"
   ]
  },
  {
   "cell_type": "code",
   "execution_count": 47,
   "id": "693e714d",
   "metadata": {},
   "outputs": [
    {
     "data": {
      "text/html": [
       "<div>\n",
       "<style scoped>\n",
       "    .dataframe tbody tr th:only-of-type {\n",
       "        vertical-align: middle;\n",
       "    }\n",
       "\n",
       "    .dataframe tbody tr th {\n",
       "        vertical-align: top;\n",
       "    }\n",
       "\n",
       "    .dataframe thead th {\n",
       "        text-align: right;\n",
       "    }\n",
       "</style>\n",
       "<table border=\"1\" class=\"dataframe\">\n",
       "  <thead>\n",
       "    <tr style=\"text-align: right;\">\n",
       "      <th></th>\n",
       "      <th>no_of_trainings</th>\n",
       "      <th>age</th>\n",
       "      <th>length_of_service</th>\n",
       "      <th>avg_training_score</th>\n",
       "    </tr>\n",
       "  </thead>\n",
       "  <tbody>\n",
       "    <tr>\n",
       "      <th>no_of_trainings</th>\n",
       "      <td>1.000000</td>\n",
       "      <td>-0.081278</td>\n",
       "      <td>-0.057275</td>\n",
       "      <td>0.042517</td>\n",
       "    </tr>\n",
       "    <tr>\n",
       "      <th>age</th>\n",
       "      <td>-0.081278</td>\n",
       "      <td>1.000000</td>\n",
       "      <td>0.657111</td>\n",
       "      <td>-0.048380</td>\n",
       "    </tr>\n",
       "    <tr>\n",
       "      <th>length_of_service</th>\n",
       "      <td>-0.057275</td>\n",
       "      <td>0.657111</td>\n",
       "      <td>1.000000</td>\n",
       "      <td>-0.038122</td>\n",
       "    </tr>\n",
       "    <tr>\n",
       "      <th>avg_training_score</th>\n",
       "      <td>0.042517</td>\n",
       "      <td>-0.048380</td>\n",
       "      <td>-0.038122</td>\n",
       "      <td>1.000000</td>\n",
       "    </tr>\n",
       "  </tbody>\n",
       "</table>\n",
       "</div>"
      ],
      "text/plain": [
       "                    no_of_trainings       age  length_of_service  \\\n",
       "no_of_trainings            1.000000 -0.081278          -0.057275   \n",
       "age                       -0.081278  1.000000           0.657111   \n",
       "length_of_service         -0.057275  0.657111           1.000000   \n",
       "avg_training_score         0.042517 -0.048380          -0.038122   \n",
       "\n",
       "                    avg_training_score  \n",
       "no_of_trainings               0.042517  \n",
       "age                          -0.048380  \n",
       "length_of_service            -0.038122  \n",
       "avg_training_score            1.000000  "
      ]
     },
     "execution_count": 47,
     "metadata": {},
     "output_type": "execute_result"
    }
   ],
   "source": [
    "hrtrain[['no_of_trainings','age','length_of_service',\n",
    "        'avg_training_score']].corr()"
   ]
  },
  {
   "cell_type": "code",
   "execution_count": 48,
   "id": "d04bd676",
   "metadata": {},
   "outputs": [],
   "source": [
    "import seaborn as sns"
   ]
  },
  {
   "cell_type": "code",
   "execution_count": 49,
   "id": "428243c3",
   "metadata": {},
   "outputs": [
    {
     "data": {
      "text/plain": [
       "<AxesSubplot:>"
      ]
     },
     "execution_count": 49,
     "metadata": {},
     "output_type": "execute_result"
    },
    {
     "data": {
      "image/png": "[encoded data removed]",
      "text/plain": [
       "<Figure size 432x288 with 2 Axes>"
      ]
     },
     "metadata": {
      "needs_background": "light"
     },
     "output_type": "display_data"
    }
   ],
   "source": [
    "sns.heatmap(hrtrain[['no_of_trainings','age','length_of_service',\n",
    "        'avg_training_score']].corr(),annot=True)"
   ]
  },
  {
   "cell_type": "code",
   "execution_count": 50,
   "id": "3a6cdccc",
   "metadata": {},
   "outputs": [
    {
     "data": {
      "text/plain": [
       "is_promoted\n",
       "0    62.647686\n",
       "1    71.325193\n",
       "Name: avg_training_score, dtype: float64"
      ]
     },
     "execution_count": 50,
     "metadata": {},
     "output_type": "execute_result"
    }
   ],
   "source": [
    "# Data Aggregation or Wranggling - groupby()\n",
    "# What is the Average avg_training_score of is_promoted 0 & 1?\n",
    "hrtrain.avg_training_score.groupby(hrtrain.is_promoted).mean()\n",
    "# Left side of groupby must be numerical\n",
    "# right side of groupby within brackets must be categorical\n",
    "# Statistical function like mean,median,std, skew, kurt, must be\n",
    "# specified"
   ]
  },
  {
   "cell_type": "code",
   "execution_count": 51,
   "id": "059c6536",
   "metadata": {},
   "outputs": [
    {
     "data": {
      "text/plain": [
       "is_promoted\n",
       "0    5.879398\n",
       "1    5.716367\n",
       "Name: length_of_service, dtype: float64"
      ]
     },
     "execution_count": 51,
     "metadata": {},
     "output_type": "execute_result"
    }
   ],
   "source": [
    "# What is the Average length_of_service of is_promoted 0 and 1?\n",
    "hrtrain.length_of_service.groupby(hrtrain.is_promoted).mean()"
   ]
  },
  {
   "cell_type": "code",
   "execution_count": 52,
   "id": "06a84c1e",
   "metadata": {},
   "outputs": [
    {
     "data": {
      "text/plain": [
       "awards_won?\n",
       "0    63.238186\n",
       "1    69.649606\n",
       "Name: avg_training_score, dtype: float64"
      ]
     },
     "execution_count": 52,
     "metadata": {},
     "output_type": "execute_result"
    }
   ],
   "source": [
    "# What is the Average avg_training_score of awards_won? 0 & 1 ?\n",
    "hrtrain.avg_training_score.groupby(hrtrain['awards_won?']).mean()"
   ]
  },
  {
   "cell_type": "code",
   "execution_count": 53,
   "id": "d5f98dc6",
   "metadata": {},
   "outputs": [
    {
     "data": {
      "text/plain": [
       "awards_won?  KPIs_met >80%\n",
       "0            0                62.507213\n",
       "             1                64.626963\n",
       "1            0                71.126984\n",
       "             1                68.863691\n",
       "Name: avg_training_score, dtype: float64"
      ]
     },
     "execution_count": 53,
     "metadata": {},
     "output_type": "execute_result"
    }
   ],
   "source": [
    "hrtrain.avg_training_score.groupby([hrtrain['awards_won?'],\n",
    "                                   hrtrain['KPIs_met >80%']]).mean()"
   ]
  },
  {
   "cell_type": "code",
   "execution_count": 54,
   "id": "89d08e82",
   "metadata": {},
   "outputs": [
    {
     "data": {
      "text/plain": [
       "previous_year_rating    4124\n",
       "education               2409\n",
       "employee_id                0\n",
       "department                 0\n",
       "region                     0\n",
       "gender                     0\n",
       "recruitment_channel        0\n",
       "no_of_trainings            0\n",
       "age                        0\n",
       "length_of_service          0\n",
       "KPIs_met >80%              0\n",
       "awards_won?                0\n",
       "avg_training_score         0\n",
       "is_promoted                0\n",
       "bins                       0\n",
       "servicebins                0\n",
       "dtype: int64"
      ]
     },
     "execution_count": 54,
     "metadata": {},
     "output_type": "execute_result"
    }
   ],
   "source": [
    "hrtrain.isnull().sum().sort_values(ascending=False)"
   ]
  },
  {
   "cell_type": "code",
   "execution_count": 55,
   "id": "1b255a10",
   "metadata": {},
   "outputs": [
    {
     "data": {
      "text/plain": [
       "previous_year_rating    1812\n",
       "education               1034\n",
       "employee_id                0\n",
       "department                 0\n",
       "region                     0\n",
       "gender                     0\n",
       "recruitment_channel        0\n",
       "no_of_trainings            0\n",
       "age                        0\n",
       "length_of_service          0\n",
       "KPIs_met >80%              0\n",
       "awards_won?                0\n",
       "avg_training_score         0\n",
       "dtype: int64"
      ]
     },
     "execution_count": 55,
     "metadata": {},
     "output_type": "execute_result"
    }
   ],
   "source": [
    "hrtest.isnull().sum().sort_values(ascending=False)"
   ]
  },
  {
   "cell_type": "code",
   "execution_count": 56,
   "id": "47a2f33e",
   "metadata": {},
   "outputs": [],
   "source": [
    "# Reimport train data as the earlier data had new variables\n",
    "hrtrain=pd.read_csv('train_LZdllcl.csv')"
   ]
  },
  {
   "cell_type": "code",
   "execution_count": 57,
   "id": "3a7b6714",
   "metadata": {},
   "outputs": [],
   "source": [
    "hrtest=pd.read_csv('test_2umaH9m.csv')"
   ]
  },
  {
   "cell_type": "code",
   "execution_count": 58,
   "id": "e84e6b28",
   "metadata": {},
   "outputs": [
    {
     "name": "stdout",
     "output_type": "stream",
     "text": [
      "(54808, 14)\n",
      "(23490, 13)\n"
     ]
    }
   ],
   "source": [
    "print(hrtrain.shape)\n",
    "print(hrtest.shape)"
   ]
  },
  {
   "cell_type": "code",
   "execution_count": 59,
   "id": "95f0eb79",
   "metadata": {},
   "outputs": [],
   "source": [
    "hrtest['is_promoted']='test' # Add Dependent Variable to test data for Row Concatenation"
   ]
  },
  {
   "cell_type": "code",
   "execution_count": 60,
   "id": "f0e6030f",
   "metadata": {},
   "outputs": [],
   "source": [
    "combinedf=pd.concat([hrtrain,hrtest],axis=0) # Row wise concatenation"
   ]
  },
  {
   "cell_type": "code",
   "execution_count": 61,
   "id": "c9d45e46",
   "metadata": {},
   "outputs": [
    {
     "data": {
      "text/plain": [
       "(78298, 14)"
      ]
     },
     "execution_count": 61,
     "metadata": {},
     "output_type": "execute_result"
    }
   ],
   "source": [
    "combinedf.shape # 78298 observtions with 14 variables"
   ]
  },
  {
   "cell_type": "code",
   "execution_count": 62,
   "id": "09b7fe94",
   "metadata": {},
   "outputs": [
    {
     "data": {
      "text/plain": [
       "Bachelor's          52247\n",
       "Master's & above    21429\n",
       "NaN                  3443\n",
       "Below Secondary      1179\n",
       "Name: education, dtype: int64"
      ]
     },
     "execution_count": 62,
     "metadata": {},
     "output_type": "execute_result"
    }
   ],
   "source": [
    "combinedf.education.value_counts(dropna=False) # Frequency counts"
   ]
  },
  {
   "cell_type": "code",
   "execution_count": 63,
   "id": "78916ae1",
   "metadata": {},
   "outputs": [
    {
     "data": {
      "text/plain": [
       "0.04397302613093566"
      ]
     },
     "execution_count": 63,
     "metadata": {},
     "output_type": "execute_result"
    }
   ],
   "source": [
    "3443/78298"
   ]
  },
  {
   "cell_type": "code",
   "execution_count": 64,
   "id": "8d73c5fb",
   "metadata": {},
   "outputs": [],
   "source": [
    "# Impute Missing values in education variable with \"Bachelor's\". NA's are only 4.4% and \n",
    "# already \"Bachelor's\" is very large segment, there will no effect on data pattern/trend\n",
    "combinedf.education=combinedf.education.fillna(\"Bachelor's\")"
   ]
  },
  {
   "cell_type": "code",
   "execution_count": 65,
   "id": "d6c90657",
   "metadata": {},
   "outputs": [
    {
     "data": {
      "text/plain": [
       "3.0    26539\n",
       "5.0    16838\n",
       "4.0    14126\n",
       "1.0     8903\n",
       "2.0     5956\n",
       "NaN     5936\n",
       "Name: previous_year_rating, dtype: int64"
      ]
     },
     "execution_count": 65,
     "metadata": {},
     "output_type": "execute_result"
    }
   ],
   "source": [
    "combinedf.previous_year_rating.value_counts(dropna=False)"
   ]
  },
  {
   "cell_type": "code",
   "execution_count": 66,
   "id": "6120ba74",
   "metadata": {},
   "outputs": [],
   "source": [
    "# Impute with 3.0 rating as it is the largest segment and missing values are few\n",
    "combinedf.previous_year_rating=combinedf.previous_year_rating.fillna(3.0)"
   ]
  },
  {
   "cell_type": "code",
   "execution_count": 67,
   "id": "22f1a182",
   "metadata": {},
   "outputs": [],
   "source": [
    "# For Dummy Encoding or Label Encoding - Split data into numeric and object columns\n",
    "numericcols=combinedf.select_dtypes(include=np.number) # np.number-float64 & int64\n",
    "objectcols=combinedf.select_dtypes(include=['object']) # object columns"
   ]
  },
  {
   "cell_type": "code",
   "execution_count": 68,
   "id": "4f6f7590",
   "metadata": {},
   "outputs": [
    {
     "name": "stdout",
     "output_type": "stream",
     "text": [
      "(78298, 8)\n",
      "(78298, 6)\n"
     ]
    }
   ],
   "source": [
    "print(numericcols.shape)\n",
    "print(objectcols.shape)"
   ]
  },
  {
   "cell_type": "code",
   "execution_count": 69,
   "id": "898f16ef",
   "metadata": {},
   "outputs": [],
   "source": [
    " # All Numeric data will not be numeric. They might be representing\n",
    "# categories. previous_year_rating(1-5),KPIs_met >80% & awards_won? - 0 (No)& 1(Yes)"
   ]
  },
  {
   "cell_type": "code",
   "execution_count": 70,
   "id": "9e63bc8a",
   "metadata": {},
   "outputs": [
    {
     "data": {
      "text/plain": [
       "0    50578\n",
       "1    27720\n",
       "Name: KPIs_met >80%, dtype: int64"
      ]
     },
     "execution_count": 70,
     "metadata": {},
     "output_type": "execute_result"
    }
   ],
   "source": [
    "numericcols['KPIs_met >80%'].value_counts()"
   ]
  },
  {
   "cell_type": "code",
   "execution_count": 71,
   "id": "72914165",
   "metadata": {},
   "outputs": [
    {
     "data": {
      "text/plain": [
       "0    76493\n",
       "1     1805\n",
       "Name: awards_won?, dtype: int64"
      ]
     },
     "execution_count": 71,
     "metadata": {},
     "output_type": "execute_result"
    }
   ],
   "source": [
    "numericcols['awards_won?'].value_counts()"
   ]
  },
  {
   "cell_type": "code",
   "execution_count": 72,
   "id": "285ebbe6",
   "metadata": {},
   "outputs": [],
   "source": [
    "# Add categorical cols from numeric cols to objectcols\n",
    "objectcols['previous_year_rating']=numericcols.previous_year_rating\n",
    "objectcols['KPIs_met >80%']=numericcols['KPIs_met >80%']\n",
    "objectcols['awards_won?']=numericcols['awards_won?']"
   ]
  },
  {
   "cell_type": "code",
   "execution_count": 73,
   "id": "d6d6a4a6",
   "metadata": {},
   "outputs": [],
   "source": [
    "# Drop Categorical cols from numeric cols\n",
    "numericcols=numericcols.drop(['previous_year_rating','KPIs_met >80%','awards_won?'],axis=1)\n",
    "# axis=1 is column dropping"
   ]
  },
  {
   "cell_type": "code",
   "execution_count": 74,
   "id": "550371af",
   "metadata": {},
   "outputs": [],
   "source": [
    "numericcols['is_promoted']=objectcols.is_promoted"
   ]
  },
  {
   "cell_type": "code",
   "execution_count": 75,
   "id": "f045c5f5",
   "metadata": {},
   "outputs": [],
   "source": [
    "objectcols=objectcols.drop('is_promoted',axis=1)"
   ]
  },
  {
   "cell_type": "code",
   "execution_count": 76,
   "id": "952bafb2",
   "metadata": {},
   "outputs": [
    {
     "name": "stdout",
     "output_type": "stream",
     "text": [
      "(78298, 6)\n",
      "(78298, 8)\n"
     ]
    }
   ],
   "source": [
    "print(numericcols.shape)\n",
    "print(objectcols.shape)"
   ]
  },
  {
   "cell_type": "code",
   "execution_count": 77,
   "id": "6e699ae6",
   "metadata": {},
   "outputs": [
    {
     "data": {
      "text/html": [
       "<div>\n",
       "<style scoped>\n",
       "    .dataframe tbody tr th:only-of-type {\n",
       "        vertical-align: middle;\n",
       "    }\n",
       "\n",
       "    .dataframe tbody tr th {\n",
       "        vertical-align: top;\n",
       "    }\n",
       "\n",
       "    .dataframe thead th {\n",
       "        text-align: right;\n",
       "    }\n",
       "</style>\n",
       "<table border=\"1\" class=\"dataframe\">\n",
       "  <thead>\n",
       "    <tr style=\"text-align: right;\">\n",
       "      <th></th>\n",
       "      <th>department</th>\n",
       "      <th>region</th>\n",
       "      <th>education</th>\n",
       "      <th>gender</th>\n",
       "      <th>recruitment_channel</th>\n",
       "      <th>previous_year_rating</th>\n",
       "      <th>KPIs_met &gt;80%</th>\n",
       "      <th>awards_won?</th>\n",
       "    </tr>\n",
       "  </thead>\n",
       "  <tbody>\n",
       "    <tr>\n",
       "      <th>0</th>\n",
       "      <td>Sales &amp; Marketing</td>\n",
       "      <td>region_7</td>\n",
       "      <td>Master's &amp; above</td>\n",
       "      <td>f</td>\n",
       "      <td>sourcing</td>\n",
       "      <td>5.0</td>\n",
       "      <td>1</td>\n",
       "      <td>0</td>\n",
       "    </tr>\n",
       "    <tr>\n",
       "      <th>1</th>\n",
       "      <td>Operations</td>\n",
       "      <td>region_22</td>\n",
       "      <td>Bachelor's</td>\n",
       "      <td>m</td>\n",
       "      <td>other</td>\n",
       "      <td>5.0</td>\n",
       "      <td>0</td>\n",
       "      <td>0</td>\n",
       "    </tr>\n",
       "    <tr>\n",
       "      <th>2</th>\n",
       "      <td>Sales &amp; Marketing</td>\n",
       "      <td>region_19</td>\n",
       "      <td>Bachelor's</td>\n",
       "      <td>m</td>\n",
       "      <td>sourcing</td>\n",
       "      <td>3.0</td>\n",
       "      <td>0</td>\n",
       "      <td>0</td>\n",
       "    </tr>\n",
       "  </tbody>\n",
       "</table>\n",
       "</div>"
      ],
      "text/plain": [
       "          department     region         education gender recruitment_channel  \\\n",
       "0  Sales & Marketing   region_7  Master's & above      f            sourcing   \n",
       "1         Operations  region_22        Bachelor's      m               other   \n",
       "2  Sales & Marketing  region_19        Bachelor's      m            sourcing   \n",
       "\n",
       "   previous_year_rating  KPIs_met >80%  awards_won?  \n",
       "0                   5.0              1            0  \n",
       "1                   5.0              0            0  \n",
       "2                   3.0              0            0  "
      ]
     },
     "execution_count": 77,
     "metadata": {},
     "output_type": "execute_result"
    }
   ],
   "source": [
    "objectcols.head(3)"
   ]
  },
  {
   "cell_type": "code",
   "execution_count": 78,
   "id": "f23e3af7",
   "metadata": {},
   "outputs": [],
   "source": [
    "from sklearn.preprocessing import LabelEncoder"
   ]
  },
  {
   "cell_type": "code",
   "execution_count": 79,
   "id": "14ca29b6",
   "metadata": {},
   "outputs": [],
   "source": [
    "le=LabelEncoder()"
   ]
  },
  {
   "cell_type": "code",
   "execution_count": 80,
   "id": "35b0b3b1",
   "metadata": {},
   "outputs": [],
   "source": [
    "objectcolsdummy=objectcols.apply(le.fit_transform)"
   ]
  },
  {
   "cell_type": "code",
   "execution_count": 81,
   "id": "3745a39b",
   "metadata": {},
   "outputs": [
    {
     "data": {
      "text/html": [
       "<div>\n",
       "<style scoped>\n",
       "    .dataframe tbody tr th:only-of-type {\n",
       "        vertical-align: middle;\n",
       "    }\n",
       "\n",
       "    .dataframe tbody tr th {\n",
       "        vertical-align: top;\n",
       "    }\n",
       "\n",
       "    .dataframe thead th {\n",
       "        text-align: right;\n",
       "    }\n",
       "</style>\n",
       "<table border=\"1\" class=\"dataframe\">\n",
       "  <thead>\n",
       "    <tr style=\"text-align: right;\">\n",
       "      <th></th>\n",
       "      <th>department</th>\n",
       "      <th>region</th>\n",
       "      <th>education</th>\n",
       "      <th>gender</th>\n",
       "      <th>recruitment_channel</th>\n",
       "      <th>previous_year_rating</th>\n",
       "      <th>KPIs_met &gt;80%</th>\n",
       "      <th>awards_won?</th>\n",
       "    </tr>\n",
       "  </thead>\n",
       "  <tbody>\n",
       "    <tr>\n",
       "      <th>0</th>\n",
       "      <td>7</td>\n",
       "      <td>31</td>\n",
       "      <td>2</td>\n",
       "      <td>0</td>\n",
       "      <td>2</td>\n",
       "      <td>4</td>\n",
       "      <td>1</td>\n",
       "      <td>0</td>\n",
       "    </tr>\n",
       "    <tr>\n",
       "      <th>1</th>\n",
       "      <td>4</td>\n",
       "      <td>14</td>\n",
       "      <td>0</td>\n",
       "      <td>1</td>\n",
       "      <td>0</td>\n",
       "      <td>4</td>\n",
       "      <td>0</td>\n",
       "      <td>0</td>\n",
       "    </tr>\n",
       "    <tr>\n",
       "      <th>2</th>\n",
       "      <td>7</td>\n",
       "      <td>10</td>\n",
       "      <td>0</td>\n",
       "      <td>1</td>\n",
       "      <td>2</td>\n",
       "      <td>2</td>\n",
       "      <td>0</td>\n",
       "      <td>0</td>\n",
       "    </tr>\n",
       "  </tbody>\n",
       "</table>\n",
       "</div>"
      ],
      "text/plain": [
       "   department  region  education  gender  recruitment_channel  \\\n",
       "0           7      31          2       0                    2   \n",
       "1           4      14          0       1                    0   \n",
       "2           7      10          0       1                    2   \n",
       "\n",
       "   previous_year_rating  KPIs_met >80%  awards_won?  \n",
       "0                     4              1            0  \n",
       "1                     4              0            0  \n",
       "2                     2              0            0  "
      ]
     },
     "execution_count": 81,
     "metadata": {},
     "output_type": "execute_result"
    }
   ],
   "source": [
    "objectcolsdummy.head(3)"
   ]
  },
  {
   "cell_type": "code",
   "execution_count": 82,
   "id": "6e6ce10a",
   "metadata": {},
   "outputs": [],
   "source": [
    "# Concat both dataframe numeric & object into one\n",
    "combinedf_clean=pd.concat([numericcols,objectcolsdummy],axis=1) # Column wise concatenation"
   ]
  },
  {
   "cell_type": "code",
   "execution_count": 83,
   "id": "7eb4dcba",
   "metadata": {},
   "outputs": [],
   "source": [
    "# Split back to traindata and testdata\n",
    "hrtraindf=combinedf_clean[combinedf_clean.is_promoted!='test']\n",
    "hrtestdf=combinedf_clean[combinedf_clean.is_promoted=='test']"
   ]
  },
  {
   "cell_type": "code",
   "execution_count": 84,
   "id": "ac347d17",
   "metadata": {},
   "outputs": [],
   "source": [
    "hrtestdf=hrtestdf.drop('is_promoted',axis=1)"
   ]
  },
  {
   "cell_type": "code",
   "execution_count": 85,
   "id": "180c0a0d",
   "metadata": {},
   "outputs": [
    {
     "data": {
      "text/plain": [
       "0    50140\n",
       "1     4668\n",
       "Name: is_promoted, dtype: int64"
      ]
     },
     "execution_count": 85,
     "metadata": {},
     "output_type": "execute_result"
    }
   ],
   "source": [
    "hrtraindf.is_promoted.value_counts()"
   ]
  },
  {
   "cell_type": "code",
   "execution_count": 86,
   "id": "013a9a1c",
   "metadata": {},
   "outputs": [
    {
     "data": {
      "text/plain": [
       "Index(['employee_id', 'no_of_trainings', 'age', 'length_of_service',\n",
       "       'avg_training_score', 'is_promoted', 'department', 'region',\n",
       "       'education', 'gender', 'recruitment_channel', 'previous_year_rating',\n",
       "       'KPIs_met >80%', 'awards_won?'],\n",
       "      dtype='object')"
      ]
     },
     "execution_count": 86,
     "metadata": {},
     "output_type": "execute_result"
    }
   ],
   "source": [
    "hrtraindf.columns"
   ]
  },
  {
   "cell_type": "code",
   "execution_count": 87,
   "id": "9121dd25",
   "metadata": {},
   "outputs": [
    {
     "data": {
      "text/plain": [
       "is_promoted\n",
       "0    62.647686\n",
       "1    71.325193\n",
       "Name: avg_training_score, dtype: float64"
      ]
     },
     "execution_count": 87,
     "metadata": {},
     "output_type": "execute_result"
    }
   ],
   "source": [
    "#test null the avg_training_score of is_promooted 0 & 1 equal?\n",
    "hrtraindf.avg_training_score.groupby(hrtraindf.is_promoted).mean()"
   ]
  },
  {
   "cell_type": "code",
   "execution_count": 88,
   "id": "89dbd4c4",
   "metadata": {},
   "outputs": [],
   "source": [
    "#since there are exactly 2 levels in categorical vairiable -\n",
    "# we can do 2 sample independent t test\n",
    "#null -there is no significance difference in average_training_Score  of is_promoted 0 & 1\n",
    "#alt -there is significance difference in average_training_Score  of is_promoted 0 & 1"
   ]
  },
  {
   "cell_type": "code",
   "execution_count": 89,
   "id": "760019a7",
   "metadata": {},
   "outputs": [],
   "source": [
    "promotedyes= hrtraindf[hrtraindf.is_promoted==1]\n",
    "promotedno=hrtraindf[hrtraindf.is_promoted==0]"
   ]
  },
  {
   "cell_type": "code",
   "execution_count": 90,
   "id": "bedfbf4f",
   "metadata": {},
   "outputs": [
    {
     "name": "stdout",
     "output_type": "stream",
     "text": [
      "(4668, 14)\n",
      "(50140, 14)\n"
     ]
    }
   ],
   "source": [
    "print(promotedyes.shape)\n",
    "print(promotedno.shape)"
   ]
  },
  {
   "cell_type": "code",
   "execution_count": 91,
   "id": "a1807016",
   "metadata": {},
   "outputs": [
    {
     "data": {
      "text/plain": [
       "Ttest_indResult(statistic=38.82675007357188, pvalue=7.662329172468838e-291)"
      ]
     },
     "execution_count": 91,
     "metadata": {},
     "output_type": "execute_result"
    }
   ],
   "source": [
    "from scipy.stats import ttest_ind\n",
    "ttest_ind(promotedyes.avg_training_score,promotedno.avg_training_score,equal_var=False)\n",
    "#since the p value =7.662329172468838e-291 is less than 0.05, reject null"
   ]
  },
  {
   "cell_type": "code",
   "execution_count": 92,
   "id": "b9deef7a",
   "metadata": {},
   "outputs": [
    {
     "name": "stdout",
     "output_type": "stream",
     "text": [
      "is_promoted\n",
      "0    5.879398\n",
      "1    5.716367\n",
      "Name: length_of_service, dtype: float64\n",
      "is_promoted\n",
      "0    18.387278\n",
      "1    16.062239\n",
      "Name: length_of_service, dtype: float64\n"
     ]
    }
   ],
   "source": [
    "#test null the average length_of_Service of is_promoted 0 & 1 equal?\n",
    "print(hrtraindf.length_of_service.groupby(hrtraindf.is_promoted).mean())\n",
    "print(hrtraindf.length_of_service.groupby(hrtraindf.is_promoted).var())"
   ]
  },
  {
   "cell_type": "code",
   "execution_count": 93,
   "id": "f07c8617",
   "metadata": {},
   "outputs": [],
   "source": [
    "#since there are exactly 2 levels in categorical vairiable -\n",
    "# we can do 2 sample independent t test\n",
    "#null -there is no significance difference in average length_of_service  of is_promoted 0 & 1\n",
    "#alt -there is significance difference in average length_of_service of is_promoted 0 & 1"
   ]
  },
  {
   "cell_type": "code",
   "execution_count": 94,
   "id": "8e67d074",
   "metadata": {},
   "outputs": [
    {
     "data": {
      "text/plain": [
       "Ttest_indResult(statistic=-2.6420549711884886, pvalue=0.008262946987836755)"
      ]
     },
     "execution_count": 94,
     "metadata": {},
     "output_type": "execute_result"
    }
   ],
   "source": [
    "ttest_ind(promotedyes.length_of_service,promotedno.length_of_service,equal_var=False)\n",
    "#since the p value =0.008262946987836755 is less than 0.05, reject null"
   ]
  },
  {
   "cell_type": "code",
   "execution_count": 95,
   "id": "37329eb3",
   "metadata": {},
   "outputs": [],
   "source": [
    "#test null the average avg_training_score for different recritment_channel is equal?"
   ]
  },
  {
   "cell_type": "code",
   "execution_count": 96,
   "id": "410b4383",
   "metadata": {},
   "outputs": [
    {
     "name": "stdout",
     "output_type": "stream",
     "text": [
      "recruitment_channel\n",
      "0    63.362839\n",
      "1    66.182137\n",
      "2    63.280620\n",
      "Name: avg_training_score, dtype: float64\n",
      "recruitment_channel\n",
      "0    177.989513\n",
      "1    193.411144\n",
      "2    178.760475\n",
      "Name: avg_training_score, dtype: float64\n"
     ]
    }
   ],
   "source": [
    "print(hrtraindf.avg_training_score.groupby(hrtraindf.recruitment_channel).mean())\n",
    "print(hrtraindf.avg_training_score.groupby(hrtraindf.recruitment_channel).var())"
   ]
  },
  {
   "cell_type": "code",
   "execution_count": 97,
   "id": "17d2f4c1",
   "metadata": {},
   "outputs": [],
   "source": [
    "#since there are more than 2 levels in categorical vairiable -\n",
    "# we can do annova single factor\n",
    "#null -there is no significance difference in average avg_training_score  of recruitment_channel 0 & 1 & 2\n",
    "#alt -there is significance difference in average avg_training_score of recruitment_channel 0 & 1 & 2"
   ]
  },
  {
   "cell_type": "code",
   "execution_count": 98,
   "id": "3609f495",
   "metadata": {},
   "outputs": [],
   "source": [
    "other=hrtraindf[hrtraindf.recruitment_channel==0]\n",
    "refer=hrtraindf[hrtraindf.recruitment_channel==1]\n",
    "source=hrtraindf[hrtraindf.recruitment_channel==2]"
   ]
  },
  {
   "cell_type": "code",
   "execution_count": 99,
   "id": "1d64a74e",
   "metadata": {},
   "outputs": [],
   "source": [
    "from scipy.stats import f_oneway"
   ]
  },
  {
   "cell_type": "code",
   "execution_count": 100,
   "id": "ecad422a",
   "metadata": {},
   "outputs": [
    {
     "data": {
      "text/plain": [
       "F_onewayResult(statistic=25.758203095600134, pvalue=6.585805990029605e-12)"
      ]
     },
     "execution_count": 100,
     "metadata": {},
     "output_type": "execute_result"
    }
   ],
   "source": [
    "f_oneway(other.avg_training_score ,refer.avg_training_score ,source.avg_training_score)\n",
    "#since the pvalue =6.585805990029605e-12 less than 0.05, reject null"
   ]
  },
  {
   "cell_type": "code",
   "execution_count": 101,
   "id": "7e8e614d",
   "metadata": {},
   "outputs": [],
   "source": [
    "#test null average lenght_of_service of differenct recritment_channels 0,1,2 equal?"
   ]
  },
  {
   "cell_type": "code",
   "execution_count": 102,
   "id": "5aaadb45",
   "metadata": {},
   "outputs": [
    {
     "name": "stdout",
     "output_type": "stream",
     "text": [
      "recruitment_channel\n",
      "0    5.892991\n",
      "1    4.979860\n",
      "2    5.873040\n",
      "Name: length_of_service, dtype: float64\n"
     ]
    }
   ],
   "source": [
    "print(hrtraindf.length_of_service.groupby(hrtraindf.recruitment_channel).mean())"
   ]
  },
  {
   "cell_type": "code",
   "execution_count": 103,
   "id": "56938684",
   "metadata": {},
   "outputs": [],
   "source": [
    "#since there are more than 2 levels in categorical vairiable -\n",
    "# we can do annova single factor\n",
    "#null -there is no significance difference in average length_of_service  of recruitment_channel 0 & 1 & 2\n",
    "#alt -there is significance difference in average length_of_service of recruitment_channel 0 & 1 & 2"
   ]
  },
  {
   "cell_type": "code",
   "execution_count": 104,
   "id": "c310830f",
   "metadata": {},
   "outputs": [
    {
     "data": {
      "text/plain": [
       "F_onewayResult(statistic=25.31146884827052, pvalue=1.0290643395315436e-11)"
      ]
     },
     "execution_count": 104,
     "metadata": {},
     "output_type": "execute_result"
    }
   ],
   "source": [
    "f_oneway(other.length_of_service ,refer.length_of_service ,source.length_of_service)\n",
    "#since the pvalue =1.0290643395315436e-11 less than 0.05, reject null"
   ]
  },
  {
   "cell_type": "code",
   "execution_count": 105,
   "id": "de772249",
   "metadata": {},
   "outputs": [
    {
     "data": {
      "text/html": [
       "<div>\n",
       "<style scoped>\n",
       "    .dataframe tbody tr th:only-of-type {\n",
       "        vertical-align: middle;\n",
       "    }\n",
       "\n",
       "    .dataframe tbody tr th {\n",
       "        vertical-align: top;\n",
       "    }\n",
       "\n",
       "    .dataframe thead th {\n",
       "        text-align: right;\n",
       "    }\n",
       "</style>\n",
       "<table border=\"1\" class=\"dataframe\">\n",
       "  <thead>\n",
       "    <tr style=\"text-align: right;\">\n",
       "      <th>is_promoted</th>\n",
       "      <th>0</th>\n",
       "      <th>1</th>\n",
       "    </tr>\n",
       "    <tr>\n",
       "      <th>gender</th>\n",
       "      <th></th>\n",
       "      <th></th>\n",
       "    </tr>\n",
       "  </thead>\n",
       "  <tbody>\n",
       "    <tr>\n",
       "      <th>0</th>\n",
       "      <td>14845</td>\n",
       "      <td>1467</td>\n",
       "    </tr>\n",
       "    <tr>\n",
       "      <th>1</th>\n",
       "      <td>35295</td>\n",
       "      <td>3201</td>\n",
       "    </tr>\n",
       "  </tbody>\n",
       "</table>\n",
       "</div>"
      ],
      "text/plain": [
       "is_promoted      0     1\n",
       "gender                  \n",
       "0            14845  1467\n",
       "1            35295  3201"
      ]
     },
     "execution_count": 105,
     "metadata": {},
     "output_type": "execute_result"
    }
   ],
   "source": [
    "#test null no asssociation between gender and is_promoted\n",
    "pd.crosstab(hrtraindf.gender,hrtraindf.is_promoted)"
   ]
  },
  {
   "cell_type": "code",
   "execution_count": 106,
   "id": "204daae1",
   "metadata": {},
   "outputs": [],
   "source": [
    "from scipy.stats import chi2_contingency\n",
    "#null -there is no relationship between age gender and is_promoted\n",
    "#alt -there is relationship between age gender and is_promoted"
   ]
  },
  {
   "cell_type": "code",
   "execution_count": 107,
   "id": "4498fb7b",
   "metadata": {},
   "outputs": [
    {
     "data": {
      "text/plain": [
       "(6.677254566546107,\n",
       " 0.009765091521176657,\n",
       " 1,\n",
       " array([[14922.70617428,  1389.29382572],\n",
       "        [35217.29382572,  3278.70617428]]))"
      ]
     },
     "execution_count": 107,
     "metadata": {},
     "output_type": "execute_result"
    }
   ],
   "source": [
    "chi2_contingency(pd.crosstab(hrtraindf.gender,hrtraindf.is_promoted))\n",
    "#since p value is 0.009765091521176657 less than 0.05 reject null"
   ]
  },
  {
   "cell_type": "code",
   "execution_count": 108,
   "id": "d6954805",
   "metadata": {},
   "outputs": [
    {
     "data": {
      "text/plain": [
       "Index(['employee_id', 'no_of_trainings', 'age', 'length_of_service',\n",
       "       'avg_training_score', 'is_promoted', 'department', 'region',\n",
       "       'education', 'gender', 'recruitment_channel', 'previous_year_rating',\n",
       "       'KPIs_met >80%', 'awards_won?'],\n",
       "      dtype='object')"
      ]
     },
     "execution_count": 108,
     "metadata": {},
     "output_type": "execute_result"
    }
   ],
   "source": [
    "hrtraindf.columns"
   ]
  },
  {
   "cell_type": "code",
   "execution_count": 109,
   "id": "1ab2c33b",
   "metadata": {},
   "outputs": [],
   "source": [
    "y=hrtraindf.is_promoted\n",
    "X=hrtraindf.drop(['employee_id','is_promoted'],axis=1)"
   ]
  },
  {
   "cell_type": "code",
   "execution_count": 110,
   "id": "723c72b5",
   "metadata": {},
   "outputs": [
    {
     "data": {
      "text/plain": [
       "(54808, 12)"
      ]
     },
     "execution_count": 110,
     "metadata": {},
     "output_type": "execute_result"
    }
   ],
   "source": [
    "X.shape"
   ]
  },
  {
   "cell_type": "code",
   "execution_count": 111,
   "id": "bac5cc8a",
   "metadata": {},
   "outputs": [],
   "source": [
    "y=le.fit_transform(y) #label encode dependent variable"
   ]
  },
  {
   "cell_type": "code",
   "execution_count": 112,
   "id": "2298c1ca",
   "metadata": {},
   "outputs": [],
   "source": [
    "from sklearn.linear_model import LogisticRegression"
   ]
  },
  {
   "cell_type": "code",
   "execution_count": 113,
   "id": "7e9a0261",
   "metadata": {},
   "outputs": [],
   "source": [
    "logit=LogisticRegression(max_iter=2000)"
   ]
  },
  {
   "cell_type": "code",
   "execution_count": 114,
   "id": "a850b902",
   "metadata": {},
   "outputs": [],
   "source": [
    "logitmodel=logit.fit(X,y)"
   ]
  },
  {
   "cell_type": "code",
   "execution_count": 115,
   "id": "8c940931",
   "metadata": {},
   "outputs": [
    {
     "data": {
      "text/plain": [
       "0.9172201138519924"
      ]
     },
     "execution_count": 115,
     "metadata": {},
     "output_type": "execute_result"
    }
   ],
   "source": [
    "logitmodel.score(X,y) #accuracy from confusion matrix"
   ]
  },
  {
   "cell_type": "code",
   "execution_count": 116,
   "id": "096b9c82",
   "metadata": {},
   "outputs": [],
   "source": [
    "logitpredict=logitmodel.predict(X)"
   ]
  },
  {
   "cell_type": "code",
   "execution_count": 117,
   "id": "856c48e3",
   "metadata": {},
   "outputs": [
    {
     "data": {
      "text/html": [
       "<div>\n",
       "<style scoped>\n",
       "    .dataframe tbody tr th:only-of-type {\n",
       "        vertical-align: middle;\n",
       "    }\n",
       "\n",
       "    .dataframe tbody tr th {\n",
       "        vertical-align: top;\n",
       "    }\n",
       "\n",
       "    .dataframe thead th {\n",
       "        text-align: right;\n",
       "    }\n",
       "</style>\n",
       "<table border=\"1\" class=\"dataframe\">\n",
       "  <thead>\n",
       "    <tr style=\"text-align: right;\">\n",
       "      <th>col_0</th>\n",
       "      <th>0</th>\n",
       "      <th>1</th>\n",
       "    </tr>\n",
       "    <tr>\n",
       "      <th>row_0</th>\n",
       "      <th></th>\n",
       "      <th></th>\n",
       "    </tr>\n",
       "  </thead>\n",
       "  <tbody>\n",
       "    <tr>\n",
       "      <th>0</th>\n",
       "      <td>49948</td>\n",
       "      <td>192</td>\n",
       "    </tr>\n",
       "    <tr>\n",
       "      <th>1</th>\n",
       "      <td>4345</td>\n",
       "      <td>323</td>\n",
       "    </tr>\n",
       "  </tbody>\n",
       "</table>\n",
       "</div>"
      ],
      "text/plain": [
       "col_0      0    1\n",
       "row_0            \n",
       "0      49948  192\n",
       "1       4345  323"
      ]
     },
     "execution_count": 117,
     "metadata": {},
     "output_type": "execute_result"
    }
   ],
   "source": [
    "pd.crosstab(y,logitpredict)"
   ]
  },
  {
   "cell_type": "code",
   "execution_count": 118,
   "id": "cef3acd1",
   "metadata": {},
   "outputs": [
    {
     "data": {
      "text/plain": [
       "0.9172733409965881"
      ]
     },
     "execution_count": 118,
     "metadata": {},
     "output_type": "execute_result"
    }
   ],
   "source": [
    "(49948+325)/(49948+192+4344+323)"
   ]
  },
  {
   "cell_type": "code",
   "execution_count": 119,
   "id": "3fa80b7e",
   "metadata": {},
   "outputs": [],
   "source": [
    "from sklearn.metrics import classification_report"
   ]
  },
  {
   "cell_type": "code",
   "execution_count": 120,
   "id": "8f7ca691",
   "metadata": {},
   "outputs": [
    {
     "name": "stdout",
     "output_type": "stream",
     "text": [
      "              precision    recall  f1-score   support\n",
      "\n",
      "           0       0.92      1.00      0.96     50140\n",
      "           1       0.63      0.07      0.12      4668\n",
      "\n",
      "    accuracy                           0.92     54808\n",
      "   macro avg       0.77      0.53      0.54     54808\n",
      "weighted avg       0.90      0.92      0.89     54808\n",
      "\n"
     ]
    }
   ],
   "source": [
    "print(classification_report(y,logitpredict))"
   ]
  },
  {
   "cell_type": "code",
   "execution_count": 121,
   "id": "9a2f3f5f",
   "metadata": {},
   "outputs": [],
   "source": [
    "from sklearn.tree import DecisionTreeClassifier"
   ]
  },
  {
   "cell_type": "code",
   "execution_count": 122,
   "id": "9778d55e",
   "metadata": {},
   "outputs": [],
   "source": [
    "tree=DecisionTreeClassifier()  "
   ]
  },
  {
   "cell_type": "code",
   "execution_count": 123,
   "id": "64f16f9c",
   "metadata": {},
   "outputs": [],
   "source": [
    "treemodel=tree.fit(X,y)"
   ]
  },
  {
   "cell_type": "code",
   "execution_count": 124,
   "id": "2c5f7aec",
   "metadata": {},
   "outputs": [
    {
     "data": {
      "text/plain": [
       "0.999744562837542"
      ]
     },
     "execution_count": 124,
     "metadata": {},
     "output_type": "execute_result"
    }
   ],
   "source": [
    "treemodel.score(X,y) #Accuracy 99.97 - overfitting"
   ]
  },
  {
   "cell_type": "code",
   "execution_count": 125,
   "id": "4cb5ae21",
   "metadata": {},
   "outputs": [],
   "source": [
    "from sklearn.model_selection import cross_val_score"
   ]
  },
  {
   "cell_type": "code",
   "execution_count": 126,
   "id": "582fcda7",
   "metadata": {},
   "outputs": [
    {
     "data": {
      "text/plain": [
       "array([0.90074804, 0.89107827, 0.8904397 , 0.90128638, 0.89389654])"
      ]
     },
     "execution_count": 126,
     "metadata": {},
     "output_type": "execute_result"
    }
   ],
   "source": [
    "cross_val_score(tree,X,y,cv=5) #cross validation - repeated testing of the model with same data"
   ]
  },
  {
   "cell_type": "code",
   "execution_count": 127,
   "id": "58b69dda",
   "metadata": {},
   "outputs": [],
   "source": [
    "tree=DecisionTreeClassifier(max_depth=8)"
   ]
  },
  {
   "cell_type": "code",
   "execution_count": 128,
   "id": "32c55a75",
   "metadata": {},
   "outputs": [],
   "source": [
    "treemodel=tree.fit(X,y)"
   ]
  },
  {
   "cell_type": "code",
   "execution_count": 129,
   "id": "e5e5c2a2",
   "metadata": {},
   "outputs": [
    {
     "data": {
      "text/plain": [
       "0.9350824697124508"
      ]
     },
     "execution_count": 129,
     "metadata": {},
     "output_type": "execute_result"
    }
   ],
   "source": [
    "treemodel.score(X,y) #Accuracy 93 reduced due to max_Depth "
   ]
  },
  {
   "cell_type": "code",
   "execution_count": 130,
   "id": "e10634e5",
   "metadata": {},
   "outputs": [],
   "source": [
    "from sklearn.model_selection import cross_val_score"
   ]
  },
  {
   "cell_type": "code",
   "execution_count": 131,
   "id": "61bf6af8",
   "metadata": {},
   "outputs": [
    {
     "data": {
      "text/plain": [
       "array([0.93340631, 0.93139938, 0.93158183, 0.9338564 , 0.93203175])"
      ]
     },
     "execution_count": 131,
     "metadata": {},
     "output_type": "execute_result"
    }
   ],
   "source": [
    "cross_val_score(tree,X,y,cv=5) #cross validation - repeated testing of the model with same data"
   ]
  },
  {
   "cell_type": "code",
   "execution_count": 132,
   "id": "dba211cd",
   "metadata": {},
   "outputs": [],
   "source": [
    "from sklearn.tree import export_graphviz,plot_tree"
   ]
  },
  {
   "cell_type": "code",
   "execution_count": 133,
   "id": "46df4342",
   "metadata": {},
   "outputs": [
    {
     "data": {
      "text/plain": [
       "[Text(0.5, 0.9, 'avg_training_score <= 90.5\\ngini = 0.156\\nsamples = 54808\\nvalue = [50140, 4668]'),\n",
       " Text(0.25, 0.7, 'KPIs_met >80% <= 0.5\\ngini = 0.142\\nsamples = 54229\\nvalue = [50069, 4160]'),\n",
       " Text(0.125, 0.5, 'awards_won? <= 0.5\\ngini = 0.067\\nsamples = 35295\\nvalue = [34064, 1231]'),\n",
       " Text(0.0625, 0.3, 'previous_year_rating <= 3.5\\ngini = 0.058\\nsamples = 34907\\nvalue = [33862, 1045]'),\n",
       " Text(0.03125, 0.1, '\\n  (...)  \\n'),\n",
       " Text(0.09375, 0.1, '\\n  (...)  \\n'),\n",
       " Text(0.1875, 0.3, 'avg_training_score <= 58.5\\ngini = 0.499\\nsamples = 388\\nvalue = [202, 186]'),\n",
       " Text(0.15625, 0.1, '\\n  (...)  \\n'),\n",
       " Text(0.21875, 0.1, '\\n  (...)  \\n'),\n",
       " Text(0.375, 0.5, 'avg_training_score <= 88.5\\ngini = 0.262\\nsamples = 18934\\nvalue = [16005, 2929]'),\n",
       " Text(0.3125, 0.3, 'awards_won? <= 0.5\\ngini = 0.257\\nsamples = 18717\\nvalue = [15883, 2834]'),\n",
       " Text(0.28125, 0.1, '\\n  (...)  \\n'),\n",
       " Text(0.34375, 0.1, '\\n  (...)  \\n'),\n",
       " Text(0.4375, 0.3, 'department <= 0.5\\ngini = 0.492\\nsamples = 217\\nvalue = [122, 95]'),\n",
       " Text(0.40625, 0.1, '\\n  (...)  \\n'),\n",
       " Text(0.46875, 0.1, '\\n  (...)  \\n'),\n",
       " Text(0.75, 0.7, 'department <= 0.5\\ngini = 0.215\\nsamples = 579\\nvalue = [71, 508]'),\n",
       " Text(0.625, 0.5, 'avg_training_score <= 93.5\\ngini = 0.499\\nsamples = 116\\nvalue = [56, 60]'),\n",
       " Text(0.5625, 0.3, 'awards_won? <= 0.5\\ngini = 0.477\\nsamples = 89\\nvalue = [54, 35]'),\n",
       " Text(0.53125, 0.1, '\\n  (...)  \\n'),\n",
       " Text(0.59375, 0.1, '\\n  (...)  \\n'),\n",
       " Text(0.6875, 0.3, 'avg_training_score <= 94.5\\ngini = 0.137\\nsamples = 27\\nvalue = [2, 25]'),\n",
       " Text(0.65625, 0.1, '\\n  (...)  \\n'),\n",
       " Text(0.71875, 0.1, '\\n  (...)  \\n'),\n",
       " Text(0.875, 0.5, 'avg_training_score <= 92.5\\ngini = 0.063\\nsamples = 463\\nvalue = [15, 448]'),\n",
       " Text(0.8125, 0.3, 'department <= 6.5\\ngini = 0.165\\nsamples = 143\\nvalue = [13, 130]'),\n",
       " Text(0.78125, 0.1, '\\n  (...)  \\n'),\n",
       " Text(0.84375, 0.1, '\\n  (...)  \\n'),\n",
       " Text(0.9375, 0.3, 'region <= 27.5\\ngini = 0.012\\nsamples = 320\\nvalue = [2, 318]'),\n",
       " Text(0.90625, 0.1, '\\n  (...)  \\n'),\n",
       " Text(0.96875, 0.1, '\\n  (...)  \\n')]"
      ]
     },
     "execution_count": 133,
     "metadata": {},
     "output_type": "execute_result"
    },
    {
     "data": {
      "image/png": "[encoded data removed]",
      "text/plain": [
       "<Figure size 1800x1800 with 1 Axes>"
      ]
     },
     "metadata": {
      "needs_background": "light"
     },
     "output_type": "display_data"
    }
   ],
   "source": [
    "plt.figure(figsize=(25,25))\n",
    "plot_tree(treemodel,max_depth=3,filled=True,feature_names=X.columns)"
   ]
  },
  {
   "cell_type": "code",
   "execution_count": 134,
   "id": "d690174a",
   "metadata": {},
   "outputs": [
    {
     "data": {
      "text/html": [
       "<div>\n",
       "<style scoped>\n",
       "    .dataframe tbody tr th:only-of-type {\n",
       "        vertical-align: middle;\n",
       "    }\n",
       "\n",
       "    .dataframe tbody tr th {\n",
       "        vertical-align: top;\n",
       "    }\n",
       "\n",
       "    .dataframe thead th {\n",
       "        text-align: right;\n",
       "    }\n",
       "</style>\n",
       "<table border=\"1\" class=\"dataframe\">\n",
       "  <thead>\n",
       "    <tr style=\"text-align: right;\">\n",
       "      <th></th>\n",
       "      <th>0</th>\n",
       "    </tr>\n",
       "  </thead>\n",
       "  <tbody>\n",
       "    <tr>\n",
       "      <th>0.435000</th>\n",
       "      <td>avg_training_score</td>\n",
       "    </tr>\n",
       "    <tr>\n",
       "      <th>0.266963</th>\n",
       "      <td>department</td>\n",
       "    </tr>\n",
       "    <tr>\n",
       "      <th>0.135236</th>\n",
       "      <td>KPIs_met &gt;80%</td>\n",
       "    </tr>\n",
       "    <tr>\n",
       "      <th>0.071425</th>\n",
       "      <td>awards_won?</td>\n",
       "    </tr>\n",
       "    <tr>\n",
       "      <th>0.046752</th>\n",
       "      <td>previous_year_rating</td>\n",
       "    </tr>\n",
       "    <tr>\n",
       "      <th>0.013091</th>\n",
       "      <td>age</td>\n",
       "    </tr>\n",
       "    <tr>\n",
       "      <th>0.011330</th>\n",
       "      <td>length_of_service</td>\n",
       "    </tr>\n",
       "    <tr>\n",
       "      <th>0.009321</th>\n",
       "      <td>region</td>\n",
       "    </tr>\n",
       "    <tr>\n",
       "      <th>0.005821</th>\n",
       "      <td>no_of_trainings</td>\n",
       "    </tr>\n",
       "    <tr>\n",
       "      <th>0.002322</th>\n",
       "      <td>gender</td>\n",
       "    </tr>\n",
       "    <tr>\n",
       "      <th>0.001519</th>\n",
       "      <td>recruitment_channel</td>\n",
       "    </tr>\n",
       "    <tr>\n",
       "      <th>0.001220</th>\n",
       "      <td>education</td>\n",
       "    </tr>\n",
       "  </tbody>\n",
       "</table>\n",
       "</div>"
      ],
      "text/plain": [
       "                             0\n",
       "0.435000    avg_training_score\n",
       "0.266963            department\n",
       "0.135236         KPIs_met >80%\n",
       "0.071425           awards_won?\n",
       "0.046752  previous_year_rating\n",
       "0.013091                   age\n",
       "0.011330     length_of_service\n",
       "0.009321                region\n",
       "0.005821       no_of_trainings\n",
       "0.002322                gender\n",
       "0.001519   recruitment_channel\n",
       "0.001220             education"
      ]
     },
     "execution_count": 134,
     "metadata": {},
     "output_type": "execute_result"
    }
   ],
   "source": [
    "pd.DataFrame(X.columns,treemodel.feature_importances_).sort_index(ascending=False)"
   ]
  },
  {
   "cell_type": "code",
   "execution_count": 135,
   "id": "57d3a9a2",
   "metadata": {},
   "outputs": [],
   "source": [
    "from sklearn.ensemble import RandomForestClassifier "
   ]
  },
  {
   "cell_type": "code",
   "execution_count": 136,
   "id": "62532d1a",
   "metadata": {},
   "outputs": [],
   "source": [
    "RF= RandomForestClassifier(n_estimators=1000)"
   ]
  },
  {
   "cell_type": "code",
   "execution_count": 137,
   "id": "56ef58d3",
   "metadata": {},
   "outputs": [],
   "source": [
    "RFmodel=RF.fit(X,y)"
   ]
  },
  {
   "cell_type": "code",
   "execution_count": 138,
   "id": "2646926e",
   "metadata": {},
   "outputs": [
    {
     "data": {
      "text/plain": [
       "0.999744562837542"
      ]
     },
     "execution_count": 138,
     "metadata": {},
     "output_type": "execute_result"
    }
   ],
   "source": [
    "RFmodel.score(X,y)"
   ]
  },
  {
   "cell_type": "code",
   "execution_count": 139,
   "id": "73930dab",
   "metadata": {},
   "outputs": [
    {
     "data": {
      "text/plain": [
       "array([0.93669038, 0.9322204 , 0.93358876, 0.93613721, 0.93312654])"
      ]
     },
     "execution_count": 139,
     "metadata": {},
     "output_type": "execute_result"
    }
   ],
   "source": [
    "cross_val_score(RF,X,y)"
   ]
  },
  {
   "cell_type": "code",
   "execution_count": 140,
   "id": "393ab000",
   "metadata": {},
   "outputs": [],
   "source": [
    "from sklearn.tree import _tree\n",
    "def get_rules(tree, feature_names, class_names):\n",
    "    tree_ = tree.tree_\n",
    "    feature_name = [\n",
    "        feature_names[i] if i != _tree.TREE_UNDEFINED else \"undefined!\"\n",
    "        for i in tree_.feature\n",
    "    ]\n",
    "\n",
    "    paths = []\n",
    "    path = []\n",
    "   \n",
    "    def recurse(node, path, paths):\n",
    "       \n",
    "        if tree_.feature[node] != _tree.TREE_UNDEFINED:\n",
    "            name = feature_name[node]\n",
    "            threshold = tree_.threshold[node]\n",
    "            p1, p2 = list(path), list(path)\n",
    "            p1 += [f\"({name} <= {np.round(threshold, 3)})\"]\n",
    "            recurse(tree_.children_left[node], p1, paths)\n",
    "            p2 += [f\"({name} > {np.round(threshold, 3)})\"]\n",
    "            recurse(tree_.children_right[node], p2, paths)\n",
    "        else:\n",
    "            path += [(tree_.value[node], tree_.n_node_samples[node])]\n",
    "            paths += [path]\n",
    "           \n",
    "    recurse(0, path, paths)\n",
    "\n",
    "    # sort by samples count\n",
    "    samples_count = [p[-1][1] for p in paths]\n",
    "    ii = list(np.argsort(samples_count))\n",
    "    paths = [paths[i] for i in reversed(ii)]\n",
    "   \n",
    "    rules = []\n",
    "    for path in paths:\n",
    "        rule = \"if \"\n",
    "       \n",
    "        for p in path[:-1]:\n",
    "            if rule != \"if \":\n",
    "                rule += \" and \"\n",
    "            rule += str(p)\n",
    "        rule += \" then \"\n",
    "        if class_names is None:\n",
    "            rule += \"response: \"+str(np.round(path[-1][0][0][0],3))\n",
    "        else:\n",
    "            classes = path[-1][0][0]\n",
    "            l = np.argmax(classes)\n",
    "            rule += f\"class: {class_names[l]} (proba: {np.round(100.0*classes[l]/np.sum(classes),2)}%)\"\n",
    "        rule += f\" | based on {path[-1][1]:,} samples\"\n",
    "        rules += [rule]\n",
    "       \n",
    "    return rules"
   ]
  },
  {
   "cell_type": "code",
   "execution_count": 141,
   "id": "3611d408",
   "metadata": {},
   "outputs": [
    {
     "name": "stdout",
     "output_type": "stream",
     "text": [
      "if (avg_training_score <= 90.5) and (KPIs_met >80% <= 0.5) and (awards_won? <= 0.5) and (previous_year_rating <= 3.5) and (avg_training_score <= 59.5) and (avg_training_score <= 57.5) and (avg_training_score <= 54.5) then class: 0 (proba: 100.0%) | based on 11,658 samples\n",
      "if (avg_training_score <= 90.5) and (KPIs_met >80% <= 0.5) and (awards_won? <= 0.5) and (previous_year_rating <= 3.5) and (avg_training_score > 59.5) and (avg_training_score <= 87.5) and (department <= 7.5) and (department <= 6.5) then class: 0 (proba: 97.1%) | based on 10,629 samples\n",
      "if (avg_training_score <= 90.5) and (KPIs_met >80% > 0.5) and (avg_training_score <= 88.5) and (awards_won? <= 0.5) and (department > 4.5) and (length_of_service <= 7.5) and (previous_year_rating > 1.5) and (age <= 40.5) then class: 0 (proba: 82.7%) | based on 5,799 samples\n",
      "if (avg_training_score <= 90.5) and (KPIs_met >80% > 0.5) and (avg_training_score <= 88.5) and (awards_won? <= 0.5) and (department <= 4.5) and (region <= 12.5) and (no_of_trainings <= 4.5) and (previous_year_rating > 2.5) then class: 0 (proba: 91.14%) | based on 2,360 samples\n",
      "if (avg_training_score <= 90.5) and (KPIs_met >80% > 0.5) and (avg_training_score <= 88.5) and (awards_won? <= 0.5) and (department <= 4.5) and (region > 12.5) and (region > 17.5) and (length_of_service <= 6.5) then class: 0 (proba: 89.07%) | based on 2,242 samples\n",
      "if (avg_training_score <= 90.5) and (KPIs_met >80% <= 0.5) and (awards_won? <= 0.5) and (previous_year_rating <= 3.5) and (avg_training_score > 59.5) and (avg_training_score <= 87.5) and (department > 7.5) and (avg_training_score > 79.5) then class: 0 (proba: 97.54%) | based on 2,192 samples\n",
      "if (avg_training_score <= 90.5) and (KPIs_met >80% <= 0.5) and (awards_won? <= 0.5) and (previous_year_rating <= 3.5) and (avg_training_score > 59.5) and (avg_training_score <= 87.5) and (department > 7.5) and (avg_training_score <= 79.5) then class: 0 (proba: 100.0%) | based on 2,152 samples\n",
      "if (avg_training_score <= 90.5) and (KPIs_met >80% > 0.5) and (avg_training_score <= 88.5) and (awards_won? <= 0.5) and (department <= 4.5) and (region > 12.5) and (region <= 17.5) and (age > 25.5) then class: 0 (proba: 82.78%) | based on 1,806 samples\n",
      "if (avg_training_score <= 90.5) and (KPIs_met >80% <= 0.5) and (awards_won? <= 0.5) and (previous_year_rating > 3.5) and (avg_training_score <= 63.5) and (avg_training_score <= 60.5) and (avg_training_score <= 55.5) and (avg_training_score <= 53.5) then class: 0 (proba: 100.0%) | based on 1,575 samples\n",
      "if (avg_training_score <= 90.5) and (KPIs_met >80% <= 0.5) and (awards_won? <= 0.5) and (previous_year_rating <= 3.5) and (avg_training_score <= 59.5) and (avg_training_score > 57.5) and (department <= 5.5) and (department > 2.5) then class: 0 (proba: 100.0%) | based on 1,533 samples\n",
      "if (avg_training_score <= 90.5) and (KPIs_met >80% <= 0.5) and (awards_won? <= 0.5) and (previous_year_rating <= 3.5) and (avg_training_score <= 59.5) and (avg_training_score <= 57.5) and (avg_training_score > 54.5) and (department <= 5.5) then class: 0 (proba: 99.86%) | based on 1,414 samples\n",
      "if (avg_training_score <= 90.5) and (KPIs_met >80% > 0.5) and (avg_training_score <= 88.5) and (awards_won? <= 0.5) and (department <= 4.5) and (region <= 12.5) and (no_of_trainings <= 4.5) and (previous_year_rating <= 2.5) then class: 0 (proba: 88.11%) | based on 1,295 samples\n",
      "if (avg_training_score <= 90.5) and (KPIs_met >80% > 0.5) and (avg_training_score <= 88.5) and (awards_won? <= 0.5) and (department > 4.5) and (length_of_service > 7.5) and (previous_year_rating > 2.5) and (age > 35.5) then class: 0 (proba: 81.74%) | based on 1,024 samples\n",
      "if (avg_training_score <= 90.5) and (KPIs_met >80% > 0.5) and (avg_training_score <= 88.5) and (awards_won? <= 0.5) and (department <= 4.5) and (region > 12.5) and (region > 17.5) and (length_of_service > 6.5) then class: 0 (proba: 85.27%) | based on 862 samples\n",
      "if (avg_training_score <= 90.5) and (KPIs_met >80% > 0.5) and (avg_training_score <= 88.5) and (awards_won? <= 0.5) and (department > 4.5) and (length_of_service <= 7.5) and (previous_year_rating <= 1.5) and (avg_training_score <= 87.5) then class: 0 (proba: 93.17%) | based on 849 samples\n",
      "if (avg_training_score <= 90.5) and (KPIs_met >80% > 0.5) and (avg_training_score <= 88.5) and (awards_won? <= 0.5) and (department > 4.5) and (length_of_service <= 7.5) and (previous_year_rating > 1.5) and (age > 40.5) then class: 0 (proba: 88.25%) | based on 817 samples\n",
      "if (avg_training_score <= 90.5) and (KPIs_met >80% <= 0.5) and (awards_won? <= 0.5) and (previous_year_rating > 3.5) and (avg_training_score <= 63.5) and (avg_training_score <= 60.5) and (avg_training_score > 55.5) and (department <= 5.5) then class: 0 (proba: 99.24%) | based on 658 samples\n",
      "if (avg_training_score <= 90.5) and (KPIs_met >80% > 0.5) and (avg_training_score <= 88.5) and (awards_won? > 0.5) and (previous_year_rating > 1.5) and (avg_training_score <= 83.5) and (age <= 51.5) and (avg_training_score > 48.5) then class: 0 (proba: 70.26%) | based on 464 samples\n",
      "if (avg_training_score <= 90.5) and (KPIs_met >80% > 0.5) and (avg_training_score <= 88.5) and (awards_won? <= 0.5) and (department > 4.5) and (length_of_service > 7.5) and (previous_year_rating <= 2.5) and (age <= 52.5) then class: 0 (proba: 67.47%) | based on 458 samples\n",
      "if (avg_training_score <= 90.5) and (KPIs_met >80% <= 0.5) and (awards_won? <= 0.5) and (previous_year_rating <= 3.5) and (avg_training_score <= 59.5) and (avg_training_score > 57.5) and (department <= 5.5) and (department <= 2.5) then class: 0 (proba: 99.71%) | based on 349 samples\n",
      "if (avg_training_score <= 90.5) and (KPIs_met >80% <= 0.5) and (awards_won? <= 0.5) and (previous_year_rating <= 3.5) and (avg_training_score > 59.5) and (avg_training_score > 87.5) and (department <= 6.5) and (gender > 0.5) then class: 0 (proba: 96.53%) | based on 346 samples\n",
      "if (avg_training_score <= 90.5) and (KPIs_met >80% > 0.5) and (avg_training_score <= 88.5) and (awards_won? <= 0.5) and (department > 4.5) and (length_of_service > 7.5) and (previous_year_rating > 2.5) and (age <= 35.5) then class: 0 (proba: 75.59%) | based on 340 samples\n",
      "if (avg_training_score <= 90.5) and (KPIs_met >80% <= 0.5) and (awards_won? <= 0.5) and (previous_year_rating <= 3.5) and (avg_training_score <= 59.5) and (avg_training_score <= 57.5) and (avg_training_score > 54.5) and (department > 5.5) then class: 0 (proba: 98.06%) | based on 310 samples\n",
      "if (avg_training_score <= 90.5) and (KPIs_met >80% <= 0.5) and (awards_won? <= 0.5) and (previous_year_rating > 3.5) and (avg_training_score > 63.5) and (department > 0.5) and (department > 4.5) and (avg_training_score <= 79.5) then class: 0 (proba: 87.21%) | based on 297 samples\n",
      "if (avg_training_score <= 90.5) and (KPIs_met >80% <= 0.5) and (awards_won? <= 0.5) and (previous_year_rating > 3.5) and (avg_training_score > 63.5) and (department <= 0.5) and (age > 30.5) and (age <= 58.5) then class: 0 (proba: 93.38%) | based on 287 samples\n",
      "if (avg_training_score <= 90.5) and (KPIs_met >80% <= 0.5) and (awards_won? <= 0.5) and (previous_year_rating > 3.5) and (avg_training_score <= 63.5) and (avg_training_score > 60.5) and (department <= 6.0) and (department > 2.5) then class: 0 (proba: 100.0%) | based on 264 samples\n",
      "if (avg_training_score > 90.5) and (department > 0.5) and (avg_training_score > 92.5) and (region <= 27.5) then class: 0 (proba: 100.0%) | based on 256 samples\n",
      "if (avg_training_score <= 90.5) and (KPIs_met >80% <= 0.5) and (awards_won? <= 0.5) and (previous_year_rating > 3.5) and (avg_training_score > 63.5) and (department > 0.5) and (department > 4.5) and (avg_training_score > 79.5) then class: 0 (proba: 50.0%) | based on 246 samples\n",
      "if (avg_training_score <= 90.5) and (KPIs_met >80% <= 0.5) and (awards_won? <= 0.5) and (previous_year_rating > 3.5) and (avg_training_score <= 63.5) and (avg_training_score <= 60.5) and (avg_training_score <= 55.5) and (avg_training_score > 53.5) then class: 0 (proba: 98.84%) | based on 173 samples\n",
      "if (avg_training_score <= 90.5) and (KPIs_met >80% <= 0.5) and (awards_won? <= 0.5) and (previous_year_rating <= 3.5) and (avg_training_score > 59.5) and (avg_training_score <= 87.5) and (department <= 7.5) and (department > 6.5) then class: 0 (proba: 98.69%) | based on 153 samples\n",
      "if (avg_training_score <= 90.5) and (KPIs_met >80% <= 0.5) and (awards_won? <= 0.5) and (previous_year_rating > 3.5) and (avg_training_score > 63.5) and (department > 0.5) and (department <= 4.5) and (avg_training_score > 67.5) then class: 0 (proba: 99.33%) | based on 150 samples\n",
      "if (avg_training_score <= 90.5) and (KPIs_met >80% <= 0.5) and (awards_won? <= 0.5) and (previous_year_rating > 3.5) and (avg_training_score > 63.5) and (department <= 0.5) and (age <= 30.5) and (length_of_service > 2.5) then class: 0 (proba: 79.05%) | based on 148 samples\n",
      "if (avg_training_score <= 90.5) and (KPIs_met >80% > 0.5) and (avg_training_score > 88.5) and (department <= 0.5) and (length_of_service <= 14.5) and (no_of_trainings <= 2.5) and (region > 1.5) and (gender > 0.5) then class: 0 (proba: 86.0%) | based on 100 samples\n",
      "if (avg_training_score <= 90.5) and (KPIs_met >80% > 0.5) and (avg_training_score <= 88.5) and (awards_won? <= 0.5) and (department <= 4.5) and (region > 12.5) and (region <= 17.5) and (age <= 25.5) then class: 0 (proba: 95.92%) | based on 98 samples\n",
      "if (avg_training_score <= 90.5) and (KPIs_met >80% <= 0.5) and (awards_won? > 0.5) and (avg_training_score <= 58.5) and (avg_training_score <= 57.5) and (avg_training_score <= 55.5) then class: 0 (proba: 100.0%) | based on 95 samples\n",
      "if (avg_training_score <= 90.5) and (KPIs_met >80% <= 0.5) and (awards_won? <= 0.5) and (previous_year_rating > 3.5) and (avg_training_score > 63.5) and (department > 0.5) and (department <= 4.5) and (avg_training_score <= 67.5) then class: 0 (proba: 85.71%) | based on 84 samples\n",
      "if (avg_training_score > 90.5) and (department > 0.5) and (avg_training_score <= 92.5) and (department > 6.5) then class: 0 (proba: 100.0%) | based on 79 samples\n",
      "if (avg_training_score <= 90.5) and (KPIs_met >80% <= 0.5) and (awards_won? > 0.5) and (avg_training_score > 58.5) and (previous_year_rating > 3.5) and (avg_training_score > 62.5) and (length_of_service <= 10.5) and (region > 5.0) then class: 0 (proba: 100.0%) | based on 68 samples\n",
      "if (avg_training_score <= 90.5) and (KPIs_met >80% > 0.5) and (avg_training_score <= 88.5) and (awards_won? <= 0.5) and (department > 4.5) and (length_of_service > 7.5) and (previous_year_rating <= 2.5) and (age > 52.5) then class: 0 (proba: 86.15%) | based on 65 samples\n",
      "if (avg_training_score <= 90.5) and (KPIs_met >80% > 0.5) and (avg_training_score <= 88.5) and (awards_won? > 0.5) and (previous_year_rating > 1.5) and (avg_training_score <= 83.5) and (age <= 51.5) and (avg_training_score <= 48.5) then class: 0 (proba: 81.97%) | based on 61 samples\n",
      "if (avg_training_score <= 90.5) and (KPIs_met >80% <= 0.5) and (awards_won? > 0.5) and (avg_training_score > 58.5) and (previous_year_rating <= 3.5) and (recruitment_channel > 1.5) and (length_of_service <= 8.5) and (previous_year_rating > 1.5) then class: 0 (proba: 80.0%) | based on 55 samples\n",
      "if (avg_training_score <= 90.5) and (KPIs_met >80% > 0.5) and (avg_training_score <= 88.5) and (awards_won? > 0.5) and (previous_year_rating <= 1.5) and (department > 4.5) and (education <= 1.5) then class: 0 (proba: 100.0%) | based on 55 samples\n",
      "if (avg_training_score <= 90.5) and (KPIs_met >80% <= 0.5) and (awards_won? > 0.5) and (avg_training_score > 58.5) and (previous_year_rating <= 3.5) and (recruitment_channel <= 1.5) and (avg_training_score <= 81.5) and (department <= 7.5) then class: 0 (proba: 55.56%) | based on 54 samples\n",
      "if (avg_training_score <= 90.5) and (KPIs_met >80% <= 0.5) and (awards_won? <= 0.5) and (previous_year_rating > 3.5) and (avg_training_score > 63.5) and (department <= 0.5) and (age <= 30.5) and (length_of_service <= 2.5) then class: 0 (proba: 92.59%) | based on 54 samples\n",
      "if (avg_training_score > 90.5) and (department > 0.5) and (avg_training_score <= 92.5) and (department <= 6.5) and (department <= 5.5) then class: 0 (proba: 100.0%) | based on 51 samples\n",
      "if (avg_training_score <= 90.5) and (KPIs_met >80% <= 0.5) and (awards_won? <= 0.5) and (previous_year_rating > 3.5) and (avg_training_score <= 63.5) and (avg_training_score <= 60.5) and (avg_training_score > 55.5) and (department > 5.5) then class: 0 (proba: 51.06%) | based on 47 samples\n",
      "if (avg_training_score <= 90.5) and (KPIs_met >80% <= 0.5) and (awards_won? <= 0.5) and (previous_year_rating > 3.5) and (avg_training_score <= 63.5) and (avg_training_score > 60.5) and (department <= 6.0) and (department <= 2.5) then class: 0 (proba: 88.64%) | based on 44 samples\n",
      "if (avg_training_score > 90.5) and (department > 0.5) and (avg_training_score > 92.5) and (region > 27.5) and (KPIs_met >80% > 0.5) then class: 0 (proba: 100.0%) | based on 43 samples\n",
      "if (avg_training_score <= 90.5) and (KPIs_met >80% <= 0.5) and (awards_won? <= 0.5) and (previous_year_rating > 3.5) and (avg_training_score <= 63.5) and (avg_training_score > 60.5) and (department > 6.0) then class: 0 (proba: 100.0%) | based on 37 samples\n",
      "if (avg_training_score <= 90.5) and (KPIs_met >80% > 0.5) and (avg_training_score > 88.5) and (department > 0.5) and (department > 6.5) then class: 0 (proba: 100.0%) | based on 33 samples\n",
      "if (avg_training_score <= 90.5) and (KPIs_met >80% <= 0.5) and (awards_won? <= 0.5) and (previous_year_rating <= 3.5) and (avg_training_score <= 59.5) and (avg_training_score > 57.5) and (department > 5.5) and (no_of_trainings <= 1.5) then class: 0 (proba: 78.79%) | based on 33 samples\n",
      "if (avg_training_score <= 90.5) and (KPIs_met >80% <= 0.5) and (awards_won? <= 0.5) and (previous_year_rating <= 3.5) and (avg_training_score > 59.5) and (avg_training_score > 87.5) and (department > 6.5) and (age > 27.0) then class: 0 (proba: 90.32%) | based on 31 samples\n",
      "if (avg_training_score <= 90.5) and (KPIs_met >80% <= 0.5) and (awards_won? <= 0.5) and (previous_year_rating <= 3.5) and (avg_training_score > 59.5) and (avg_training_score > 87.5) and (department <= 6.5) and (gender <= 0.5) then class: 0 (proba: 80.65%) | based on 31 samples\n",
      "if (avg_training_score <= 90.5) and (KPIs_met >80% > 0.5) and (avg_training_score > 88.5) and (department > 0.5) and (department <= 6.5) and (department <= 5.5) then class: 0 (proba: 100.0%) | based on 31 samples\n",
      "if (avg_training_score <= 90.5) and (KPIs_met >80% > 0.5) and (avg_training_score <= 88.5) and (awards_won? > 0.5) and (previous_year_rating > 1.5) and (avg_training_score > 83.5) and (department > 0.5) and (no_of_trainings <= 1.5) then class: 0 (proba: 86.96%) | based on 23 samples\n",
      "if (avg_training_score > 90.5) and (department <= 0.5) and (avg_training_score > 93.5) and (avg_training_score > 94.5) then class: 0 (proba: 100.0%) | based on 20 samples\n",
      "if (avg_training_score > 90.5) and (department <= 0.5) and (avg_training_score <= 93.5) and (awards_won? <= 0.5) and (KPIs_met >80% <= 0.5) and (previous_year_rating <= 3.5) and (no_of_trainings <= 2.5) and (age <= 30.5) then class: 0 (proba: 84.21%) | based on 19 samples\n",
      "if (avg_training_score <= 90.5) and (KPIs_met >80% <= 0.5) and (awards_won? > 0.5) and (avg_training_score > 58.5) and (previous_year_rating <= 3.5) and (recruitment_channel <= 1.5) and (avg_training_score > 81.5) and (region <= 14.5) then class: 0 (proba: 84.21%) | based on 19 samples\n",
      "if (avg_training_score > 90.5) and (department <= 0.5) and (avg_training_score <= 93.5) and (awards_won? <= 0.5) and (KPIs_met >80% > 0.5) and (education <= 1.0) and (age > 28.5) and (age <= 33.5) then class: 0 (proba: 77.78%) | based on 18 samples\n",
      "if (avg_training_score <= 90.5) and (KPIs_met >80% > 0.5) and (avg_training_score <= 88.5) and (awards_won? > 0.5) and (previous_year_rating > 1.5) and (avg_training_score > 83.5) and (department <= 0.5) and (previous_year_rating > 2.5) then class: 0 (proba: 56.25%) | based on 16 samples\n",
      "if (avg_training_score <= 90.5) and (KPIs_met >80% <= 0.5) and (awards_won? > 0.5) and (avg_training_score > 58.5) and (previous_year_rating <= 3.5) and (recruitment_channel <= 1.5) and (avg_training_score <= 81.5) and (department > 7.5) then class: 0 (proba: 87.5%) | based on 16 samples\n",
      "if (avg_training_score > 90.5) and (department <= 0.5) and (avg_training_score <= 93.5) and (awards_won? <= 0.5) and (KPIs_met >80% <= 0.5) and (previous_year_rating <= 3.5) and (no_of_trainings <= 2.5) and (age > 30.5) then class: 0 (proba: 100.0%) | based on 16 samples\n",
      "if (avg_training_score <= 90.5) and (KPIs_met >80% <= 0.5) and (awards_won? > 0.5) and (avg_training_score > 58.5) and (previous_year_rating <= 3.5) and (recruitment_channel > 1.5) and (length_of_service <= 8.5) and (previous_year_rating <= 1.5) then class: 0 (proba: 53.33%) | based on 15 samples\n",
      "if (avg_training_score <= 90.5) and (KPIs_met >80% > 0.5) and (avg_training_score <= 88.5) and (awards_won? > 0.5) and (previous_year_rating > 1.5) and (avg_training_score <= 83.5) and (age > 51.5) and (length_of_service <= 7.5) then class: 0 (proba: 60.0%) | based on 15 samples\n",
      "if (avg_training_score <= 90.5) and (KPIs_met >80% > 0.5) and (avg_training_score > 88.5) and (department > 0.5) and (department <= 6.5) and (department > 5.5) and (age > 32.5) then class: 0 (proba: 100.0%) | based on 14 samples\n",
      "if (avg_training_score <= 90.5) and (KPIs_met >80% > 0.5) and (avg_training_score > 88.5) and (department > 0.5) and (department <= 6.5) and (department > 5.5) and (age <= 32.5) and (region > 9.5) then class: 0 (proba: 78.57%) | based on 14 samples\n",
      "if (avg_training_score <= 90.5) and (KPIs_met >80% > 0.5) and (avg_training_score > 88.5) and (department <= 0.5) and (length_of_service <= 14.5) and (no_of_trainings <= 2.5) and (region > 1.5) and (gender <= 0.5) then class: 0 (proba: 64.29%) | based on 14 samples\n",
      "if (avg_training_score <= 90.5) and (KPIs_met >80% > 0.5) and (avg_training_score <= 88.5) and (awards_won? > 0.5) and (previous_year_rating <= 1.5) and (department <= 4.5) and (gender > 0.5) then class: 0 (proba: 100.0%) | based on 14 samples\n",
      "if (avg_training_score > 90.5) and (department > 0.5) and (avg_training_score <= 92.5) and (department <= 6.5) and (department > 5.5) then class: 0 (proba: 100.0%) | based on 13 samples\n",
      "if (avg_training_score <= 90.5) and (KPIs_met >80% <= 0.5) and (awards_won? > 0.5) and (avg_training_score > 58.5) and (previous_year_rating <= 3.5) and (recruitment_channel > 1.5) and (length_of_service > 8.5) and (avg_training_score <= 83.0) then class: 0 (proba: 76.92%) | based on 13 samples\n",
      "if (avg_training_score <= 90.5) and (KPIs_met >80% <= 0.5) and (awards_won? > 0.5) and (avg_training_score <= 58.5) and (avg_training_score <= 57.5) and (avg_training_score > 55.5) and (age > 27.5) then class: 0 (proba: 100.0%) | based on 12 samples\n",
      "if (avg_training_score > 90.5) and (department > 0.5) and (avg_training_score > 92.5) and (region > 27.5) and (KPIs_met >80% <= 0.5) and (length_of_service > 4.5) then class: 0 (proba: 100.0%) | based on 12 samples\n",
      "if (avg_training_score <= 90.5) and (KPIs_met >80% > 0.5) and (avg_training_score <= 88.5) and (awards_won? > 0.5) and (previous_year_rating <= 1.5) and (department > 4.5) and (education > 1.5) and (previous_year_rating <= 0.5) then class: 0 (proba: 100.0%) | based on 10 samples\n",
      "if (avg_training_score <= 90.5) and (KPIs_met >80% > 0.5) and (avg_training_score <= 88.5) and (awards_won? > 0.5) and (previous_year_rating > 1.5) and (avg_training_score > 83.5) and (department <= 0.5) and (previous_year_rating <= 2.5) then class: 0 (proba: 100.0%) | based on 10 samples\n",
      "if (avg_training_score <= 90.5) and (KPIs_met >80% <= 0.5) and (awards_won? > 0.5) and (avg_training_score > 58.5) and (previous_year_rating <= 3.5) and (recruitment_channel <= 1.5) and (avg_training_score > 81.5) and (region > 14.5) then class: 0 (proba: 77.78%) | based on 9 samples\n",
      "if (avg_training_score > 90.5) and (department <= 0.5) and (avg_training_score <= 93.5) and (awards_won? > 0.5) then class: 0 (proba: 100.0%) | based on 9 samples\n",
      "if (avg_training_score <= 90.5) and (KPIs_met >80% > 0.5) and (avg_training_score <= 88.5) and (awards_won? > 0.5) and (previous_year_rating > 1.5) and (avg_training_score > 83.5) and (department > 0.5) and (no_of_trainings > 1.5) then class: 0 (proba: 55.56%) | based on 9 samples\n",
      "if (avg_training_score <= 90.5) and (KPIs_met >80% <= 0.5) and (awards_won? <= 0.5) and (previous_year_rating <= 3.5) and (avg_training_score <= 59.5) and (avg_training_score > 57.5) and (department > 5.5) and (no_of_trainings > 1.5) then class: 0 (proba: 87.5%) | based on 8 samples\n",
      "if (avg_training_score <= 90.5) and (KPIs_met >80% > 0.5) and (avg_training_score <= 88.5) and (awards_won? > 0.5) and (previous_year_rating <= 1.5) and (department <= 4.5) and (gender <= 0.5) and (age > 29.0) then class: 0 (proba: 75.0%) | based on 8 samples\n",
      "if (avg_training_score <= 90.5) and (KPIs_met >80% > 0.5) and (avg_training_score <= 88.5) and (awards_won? > 0.5) and (previous_year_rating <= 1.5) and (department > 4.5) and (education > 1.5) and (previous_year_rating > 0.5) then class: 0 (proba: 75.0%) | based on 8 samples\n",
      "if (avg_training_score <= 90.5) and (KPIs_met >80% <= 0.5) and (awards_won? > 0.5) and (avg_training_score > 58.5) and (previous_year_rating > 3.5) and (avg_training_score > 62.5) and (length_of_service <= 10.5) and (region <= 5.0) then class: 0 (proba: 83.33%) | based on 6 samples\n",
      "if (avg_training_score > 90.5) and (department > 0.5) and (avg_training_score > 92.5) and (region > 27.5) and (KPIs_met >80% <= 0.5) and (length_of_service <= 4.5) and (no_of_trainings <= 1.5) and (age <= 32.0) then class: 0 (proba: 100.0%) | based on 5 samples\n",
      "if (avg_training_score > 90.5) and (department <= 0.5) and (avg_training_score <= 93.5) and (awards_won? <= 0.5) and (KPIs_met >80% > 0.5) and (education <= 1.0) and (age > 28.5) and (age > 33.5) then class: 0 (proba: 80.0%) | based on 5 samples\n",
      "if (avg_training_score > 90.5) and (department <= 0.5) and (avg_training_score <= 93.5) and (awards_won? <= 0.5) and (KPIs_met >80% > 0.5) and (education <= 1.0) and (age <= 28.5) and (gender > 0.5) then class: 0 (proba: 100.0%) | based on 5 samples\n",
      "if (avg_training_score <= 90.5) and (KPIs_met >80% <= 0.5) and (awards_won? > 0.5) and (avg_training_score <= 58.5) and (avg_training_score > 57.5) and (department <= 5.5) and (department > 2.5) then class: 0 (proba: 100.0%) | based on 5 samples\n",
      "if (avg_training_score > 90.5) and (department <= 0.5) and (avg_training_score <= 93.5) and (awards_won? <= 0.5) and (KPIs_met >80% > 0.5) and (education > 1.0) and (previous_year_rating > 3.5) then class: 0 (proba: 100.0%) | based on 5 samples\n",
      "if (avg_training_score <= 90.5) and (KPIs_met >80% > 0.5) and (avg_training_score <= 88.5) and (awards_won? > 0.5) and (previous_year_rating > 1.5) and (avg_training_score <= 83.5) and (age > 51.5) and (length_of_service > 7.5) then class: 0 (proba: 100.0%) | based on 5 samples\n",
      "if (avg_training_score <= 90.5) and (KPIs_met >80% <= 0.5) and (awards_won? > 0.5) and (avg_training_score > 58.5) and (previous_year_rating > 3.5) and (avg_training_score > 62.5) and (length_of_service > 10.5) and (avg_training_score > 66.0) then class: 0 (proba: 100.0%) | based on 4 samples\n",
      "if (avg_training_score > 90.5) and (department <= 0.5) and (avg_training_score > 93.5) and (avg_training_score <= 94.5) and (awards_won? > 0.5) then class: 0 (proba: 100.0%) | based on 4 samples\n",
      "if (avg_training_score > 90.5) and (department <= 0.5) and (avg_training_score <= 93.5) and (awards_won? <= 0.5) and (KPIs_met >80% <= 0.5) and (previous_year_rating > 3.5) and (region <= 19.5) then class: 0 (proba: 100.0%) | based on 4 samples\n",
      "if (avg_training_score <= 90.5) and (KPIs_met >80% <= 0.5) and (awards_won? > 0.5) and (avg_training_score > 58.5) and (previous_year_rating > 3.5) and (avg_training_score <= 62.5) and (department > 5.5) then class: 0 (proba: 100.0%) | based on 4 samples\n",
      "if (avg_training_score <= 90.5) and (KPIs_met >80% <= 0.5) and (awards_won? > 0.5) and (avg_training_score > 58.5) and (previous_year_rating > 3.5) and (avg_training_score <= 62.5) and (department <= 5.5) and (department > 3.0) then class: 0 (proba: 100.0%) | based on 3 samples\n",
      "if (avg_training_score > 90.5) and (department > 0.5) and (avg_training_score > 92.5) and (region > 27.5) and (KPIs_met >80% <= 0.5) and (length_of_service <= 4.5) and (no_of_trainings <= 1.5) and (age > 32.0) then class: 0 (proba: 66.67%) | based on 3 samples\n",
      "if (avg_training_score <= 90.5) and (KPIs_met >80% > 0.5) and (avg_training_score > 88.5) and (department <= 0.5) and (length_of_service > 14.5) then class: 0 (proba: 100.0%) | based on 3 samples\n",
      "if (avg_training_score <= 90.5) and (KPIs_met >80% <= 0.5) and (awards_won? <= 0.5) and (previous_year_rating <= 3.5) and (avg_training_score > 59.5) and (avg_training_score > 87.5) and (department > 6.5) and (age <= 27.0) then class: 0 (proba: 66.67%) | based on 3 samples\n",
      "if (avg_training_score <= 90.5) and (KPIs_met >80% > 0.5) and (avg_training_score <= 88.5) and (awards_won? > 0.5) and (previous_year_rating <= 1.5) and (department <= 4.5) and (gender <= 0.5) and (age <= 29.0) then class: 0 (proba: 100.0%) | based on 2 samples\n",
      "if (avg_training_score > 90.5) and (department <= 0.5) and (avg_training_score > 93.5) and (avg_training_score <= 94.5) and (awards_won? <= 0.5) and (previous_year_rating <= 3.0) then class: 0 (proba: 100.0%) | based on 2 samples\n",
      "if (avg_training_score > 90.5) and (department <= 0.5) and (avg_training_score <= 93.5) and (awards_won? <= 0.5) and (KPIs_met >80% <= 0.5) and (previous_year_rating > 3.5) and (region > 19.5) then class: 0 (proba: 100.0%) | based on 2 samples\n",
      "if (avg_training_score > 90.5) and (department <= 0.5) and (avg_training_score <= 93.5) and (awards_won? <= 0.5) and (KPIs_met >80% <= 0.5) and (previous_year_rating <= 3.5) and (no_of_trainings > 2.5) and (region > 15.5) then class: 0 (proba: 100.0%) | based on 2 samples\n",
      "if (avg_training_score <= 90.5) and (KPIs_met >80% <= 0.5) and (awards_won? > 0.5) and (avg_training_score <= 58.5) and (avg_training_score > 57.5) and (department > 5.5) then class: 0 (proba: 100.0%) | based on 2 samples\n",
      "if (avg_training_score <= 90.5) and (KPIs_met >80% > 0.5) and (avg_training_score > 88.5) and (department <= 0.5) and (length_of_service <= 14.5) and (no_of_trainings <= 2.5) and (region <= 1.5) and (age > 29.0) then class: 0 (proba: 100.0%) | based on 2 samples\n",
      "if (avg_training_score <= 90.5) and (KPIs_met >80% > 0.5) and (avg_training_score > 88.5) and (department <= 0.5) and (length_of_service <= 14.5) and (no_of_trainings > 2.5) and (age <= 27.5) then class: 0 (proba: 100.0%) | based on 2 samples\n",
      "if (avg_training_score <= 90.5) and (KPIs_met >80% <= 0.5) and (awards_won? > 0.5) and (avg_training_score > 58.5) and (previous_year_rating <= 3.5) and (recruitment_channel > 1.5) and (length_of_service > 8.5) and (avg_training_score > 83.0) then class: 0 (proba: 100.0%) | based on 2 samples\n",
      "if (avg_training_score <= 90.5) and (KPIs_met >80% <= 0.5) and (awards_won? > 0.5) and (avg_training_score > 58.5) and (previous_year_rating > 3.5) and (avg_training_score <= 62.5) and (department <= 5.5) and (department <= 3.0) then class: 0 (proba: 100.0%) | based on 1 samples\n",
      "if (avg_training_score > 90.5) and (department <= 0.5) and (avg_training_score <= 93.5) and (awards_won? <= 0.5) and (KPIs_met >80% > 0.5) and (education <= 1.0) and (age <= 28.5) and (gender <= 0.5) then class: 0 (proba: 100.0%) | based on 1 samples\n",
      "if (avg_training_score > 90.5) and (department > 0.5) and (avg_training_score > 92.5) and (region > 27.5) and (KPIs_met >80% <= 0.5) and (length_of_service <= 4.5) and (no_of_trainings > 1.5) then class: 0 (proba: 100.0%) | based on 1 samples\n",
      "if (avg_training_score <= 90.5) and (KPIs_met >80% <= 0.5) and (awards_won? > 0.5) and (avg_training_score <= 58.5) and (avg_training_score > 57.5) and (department <= 5.5) and (department <= 2.5) and (age <= 29.0) then class: 0 (proba: 100.0%) | based on 1 samples\n",
      "if (avg_training_score <= 90.5) and (KPIs_met >80% <= 0.5) and (awards_won? > 0.5) and (avg_training_score <= 58.5) and (avg_training_score <= 57.5) and (avg_training_score > 55.5) and (age <= 27.5) and (region > 11.0) then class: 0 (proba: 100.0%) | based on 1 samples\n",
      "if (avg_training_score <= 90.5) and (KPIs_met >80% <= 0.5) and (awards_won? > 0.5) and (avg_training_score <= 58.5) and (avg_training_score <= 57.5) and (avg_training_score > 55.5) and (age <= 27.5) and (region <= 11.0) then class: 0 (proba: 100.0%) | based on 1 samples\n",
      "if (avg_training_score <= 90.5) and (KPIs_met >80% > 0.5) and (avg_training_score <= 88.5) and (awards_won? <= 0.5) and (department > 4.5) and (length_of_service <= 7.5) and (previous_year_rating <= 1.5) and (avg_training_score > 87.5) then class: 0 (proba: 100.0%) | based on 1 samples\n",
      "if (avg_training_score > 90.5) and (department <= 0.5) and (avg_training_score > 93.5) and (avg_training_score <= 94.5) and (awards_won? <= 0.5) and (previous_year_rating > 3.0) then class: 0 (proba: 100.0%) | based on 1 samples\n",
      "if (avg_training_score <= 90.5) and (KPIs_met >80% > 0.5) and (avg_training_score > 88.5) and (department <= 0.5) and (length_of_service <= 14.5) and (no_of_trainings > 2.5) and (age > 27.5) and (education <= 1.0) then class: 0 (proba: 100.0%) | based on 1 samples\n",
      "if (avg_training_score <= 90.5) and (KPIs_met >80% > 0.5) and (avg_training_score > 88.5) and (department <= 0.5) and (length_of_service <= 14.5) and (no_of_trainings <= 2.5) and (region <= 1.5) and (age <= 29.0) then class: 0 (proba: 100.0%) | based on 1 samples\n",
      "if (avg_training_score <= 90.5) and (KPIs_met >80% > 0.5) and (avg_training_score > 88.5) and (department <= 0.5) and (length_of_service <= 14.5) and (no_of_trainings > 2.5) and (age > 27.5) and (education > 1.0) then class: 0 (proba: 100.0%) | based on 1 samples\n",
      "if (avg_training_score <= 90.5) and (KPIs_met >80% <= 0.5) and (awards_won? <= 0.5) and (previous_year_rating > 3.5) and (avg_training_score > 63.5) and (department <= 0.5) and (age > 30.5) and (age > 58.5) then class: 0 (proba: 100.0%) | based on 1 samples\n",
      "if (avg_training_score <= 90.5) and (KPIs_met >80% > 0.5) and (avg_training_score <= 88.5) and (awards_won? <= 0.5) and (department <= 4.5) and (region <= 12.5) and (no_of_trainings > 4.5) then class: 0 (proba: 100.0%) | based on 1 samples\n",
      "if (avg_training_score > 90.5) and (department <= 0.5) and (avg_training_score <= 93.5) and (awards_won? <= 0.5) and (KPIs_met >80% > 0.5) and (education > 1.0) and (previous_year_rating <= 3.5) and (region <= 21.5) then class: 0 (proba: 100.0%) | based on 1 samples\n",
      "if (avg_training_score <= 90.5) and (KPIs_met >80% > 0.5) and (avg_training_score > 88.5) and (department > 0.5) and (department <= 6.5) and (department > 5.5) and (age <= 32.5) and (region <= 9.5) then class: 0 (proba: 100.0%) | based on 1 samples\n",
      "if (avg_training_score > 90.5) and (department <= 0.5) and (avg_training_score <= 93.5) and (awards_won? <= 0.5) and (KPIs_met >80% <= 0.5) and (previous_year_rating <= 3.5) and (no_of_trainings > 2.5) and (region <= 15.5) then class: 0 (proba: 100.0%) | based on 1 samples\n",
      "if (avg_training_score <= 90.5) and (KPIs_met >80% <= 0.5) and (awards_won? > 0.5) and (avg_training_score <= 58.5) and (avg_training_score > 57.5) and (department <= 5.5) and (department <= 2.5) and (age > 29.0) then class: 0 (proba: 100.0%) | based on 1 samples\n",
      "if (avg_training_score <= 90.5) and (KPIs_met >80% <= 0.5) and (awards_won? > 0.5) and (avg_training_score > 58.5) and (previous_year_rating > 3.5) and (avg_training_score > 62.5) and (length_of_service > 10.5) and (avg_training_score <= 66.0) then class: 0 (proba: 100.0%) | based on 1 samples\n",
      "if (avg_training_score > 90.5) and (department <= 0.5) and (avg_training_score <= 93.5) and (awards_won? <= 0.5) and (KPIs_met >80% > 0.5) and (education > 1.0) and (previous_year_rating <= 3.5) and (region > 21.5) then class: 0 (proba: 100.0%) | based on 1 samples\n"
     ]
    }
   ],
   "source": [
    "rules = get_rules(tree,X.columns,y)\n",
    "for r in rules:\n",
    "    print(r)"
   ]
  },
  {
   "cell_type": "code",
   "execution_count": 142,
   "id": "6221c7f0",
   "metadata": {},
   "outputs": [
    {
     "data": {
      "text/plain": [
       "Index(['employee_id', 'no_of_trainings', 'age', 'length_of_service',\n",
       "       'avg_training_score', 'department', 'region', 'education', 'gender',\n",
       "       'recruitment_channel', 'previous_year_rating', 'KPIs_met >80%',\n",
       "       'awards_won?'],\n",
       "      dtype='object')"
      ]
     },
     "execution_count": 142,
     "metadata": {},
     "output_type": "execute_result"
    }
   ],
   "source": [
    "hrtestdf.columns"
   ]
  },
  {
   "cell_type": "code",
   "execution_count": 143,
   "id": "f70478fb",
   "metadata": {},
   "outputs": [],
   "source": [
    "hrtestdf=hrtestdf.drop('employee_id',axis=1)"
   ]
  },
  {
   "cell_type": "code",
   "execution_count": 144,
   "id": "96562411",
   "metadata": {},
   "outputs": [],
   "source": [
    "hrlogitpredict=logitmodel.predict(hrtestdf)"
   ]
  },
  {
   "cell_type": "code",
   "execution_count": 145,
   "id": "3fded645",
   "metadata": {},
   "outputs": [
    {
     "data": {
      "text/plain": [
       "(23490, 12)"
      ]
     },
     "execution_count": 145,
     "metadata": {},
     "output_type": "execute_result"
    }
   ],
   "source": [
    "hrtestdf.shape"
   ]
  },
  {
   "cell_type": "code",
   "execution_count": 146,
   "id": "6e1bdac4",
   "metadata": {},
   "outputs": [],
   "source": [
    "pd.DataFrame(hrlogitpredict).to_csv('logistic.csv')"
   ]
  },
  {
   "cell_type": "code",
   "execution_count": 147,
   "id": "ecd417f9",
   "metadata": {},
   "outputs": [],
   "source": [
    "dectreepredict=treemodel.predict(hrtestdf)"
   ]
  },
  {
   "cell_type": "code",
   "execution_count": 148,
   "id": "a2880619",
   "metadata": {},
   "outputs": [],
   "source": [
    "pd.DataFrame(dectreepredict).to_csv('dectree.csv')"
   ]
  },
  {
   "cell_type": "code",
   "execution_count": 149,
   "id": "65bf75d1",
   "metadata": {},
   "outputs": [],
   "source": [
    "#decison tree score on competition site :  0.33333"
   ]
  },
  {
   "cell_type": "code",
   "execution_count": 150,
   "id": "dc8f1817",
   "metadata": {},
   "outputs": [],
   "source": [
    "#Randomforest\n",
    "RFpredict=RFmodel.predict(hrtestdf)"
   ]
  },
  {
   "cell_type": "code",
   "execution_count": 151,
   "id": "5d5061ef",
   "metadata": {},
   "outputs": [],
   "source": [
    "pd.DataFrame(RFpredict).to_csv('RF.csv')"
   ]
  },
  {
   "cell_type": "code",
   "execution_count": 152,
   "id": "a947708e",
   "metadata": {},
   "outputs": [],
   "source": [
    "#random forest score on competition site :  0.42314"
   ]
  },
  {
   "cell_type": "code",
   "execution_count": 153,
   "id": "7f4a545e",
   "metadata": {},
   "outputs": [],
   "source": [
    "#lgb\n",
    "#xgboost"
   ]
  },
  {
   "cell_type": "code",
   "execution_count": 154,
   "id": "7f4d1d67",
   "metadata": {},
   "outputs": [],
   "source": [
    "#gradient boosting\n",
    "from sklearn.ensemble import GradientBoostingClassifier"
   ]
  },
  {
   "cell_type": "code",
   "execution_count": 155,
   "id": "2f08d075",
   "metadata": {},
   "outputs": [],
   "source": [
    "gbm=GradientBoostingClassifier(n_estimators=1000)"
   ]
  },
  {
   "cell_type": "code",
   "execution_count": 156,
   "id": "ae962386",
   "metadata": {},
   "outputs": [],
   "source": [
    "gbmmodel=gbm.fit(X,y)"
   ]
  },
  {
   "cell_type": "code",
   "execution_count": 157,
   "id": "760b3111",
   "metadata": {},
   "outputs": [
    {
     "data": {
      "text/plain": [
       "0.9449350459786893"
      ]
     },
     "execution_count": 157,
     "metadata": {},
     "output_type": "execute_result"
    }
   ],
   "source": [
    "gbmmodel.score(X,y)"
   ]
  },
  {
   "cell_type": "code",
   "execution_count": 158,
   "id": "2d61aa5e",
   "metadata": {},
   "outputs": [],
   "source": [
    "gbmpredict=gbmmodel.predict(hrtestdf)"
   ]
  },
  {
   "cell_type": "code",
   "execution_count": 159,
   "id": "2d1a2d17",
   "metadata": {},
   "outputs": [],
   "source": [
    "pd.DataFrame(gbmpredict).to_csv('gbm.csv')"
   ]
  },
  {
   "cell_type": "code",
   "execution_count": 160,
   "id": "2ac8ef08",
   "metadata": {},
   "outputs": [],
   "source": [
    "#gradient bossting(gbm) score : 0.481105"
   ]
  },
  {
   "cell_type": "code",
   "execution_count": 161,
   "id": "eabff144",
   "metadata": {},
   "outputs": [],
   "source": [
    "#AV HR ANALYTICS - submission scores\n",
    "#logistic regression score: 0.11428\n",
    "#for dicision tree score : 0.33333\n",
    "#for random forest score : 0.423149\n",
    "#for Gradient Boosting score : 0.481105\n",
    "# for xgboost score:  0.4812499\n",
    "#the best modle is xgboost model coz leaderboard value is 0.54 and our xgboost is close to it "
   ]
  },
  {
   "cell_type": "code",
   "execution_count": 162,
   "id": "f4e8e49c",
   "metadata": {},
   "outputs": [
    {
     "name": "stderr",
     "output_type": "stream",
     "text": [
      "C:\\Users\\ashis\\anaconda3\\lib\\site-packages\\xgboost\\compat.py:36: FutureWarning: pandas.Int64Index is deprecated and will be removed from pandas in a future version. Use pandas.Index with the appropriate dtype instead.\n",
      "  from pandas import MultiIndex, Int64Index\n"
     ]
    }
   ],
   "source": [
    "##  XGBOOST\n",
    "import xgboost as xgb"
   ]
  },
  {
   "cell_type": "code",
   "execution_count": 163,
   "id": "e4951356",
   "metadata": {},
   "outputs": [],
   "source": [
    "xgb_reg=xgb.XGBClassifier(n_estimators=1000)"
   ]
  },
  {
   "cell_type": "code",
   "execution_count": 164,
   "id": "dee554cb",
   "metadata": {},
   "outputs": [
    {
     "name": "stderr",
     "output_type": "stream",
     "text": [
      "C:\\Users\\ashis\\anaconda3\\lib\\site-packages\\xgboost\\sklearn.py:1224: UserWarning: The use of label encoder in XGBClassifier is deprecated and will be removed in a future release. To remove this warning, do the following: 1) Pass option use_label_encoder=False when constructing XGBClassifier object; and 2) Encode your labels (y) as integers starting with 0, i.e. 0, 1, 2, ..., [num_class - 1].\n",
      "  warnings.warn(label_encoder_deprecation_msg, UserWarning)\n",
      "C:\\Users\\ashis\\anaconda3\\lib\\site-packages\\xgboost\\data.py:250: FutureWarning: pandas.Int64Index is deprecated and will be removed from pandas in a future version. Use pandas.Index with the appropriate dtype instead.\n",
      "  elif isinstance(data.columns, (pd.Int64Index, pd.RangeIndex)):\n"
     ]
    },
    {
     "name": "stdout",
     "output_type": "stream",
     "text": [
      "[10:07:54] WARNING: ..\\src\\learner.cc:1115: Starting in XGBoost 1.3.0, the default evaluation metric used with the objective 'binary:logistic' was changed from 'error' to 'logloss'. Explicitly set eval_metric if you'd like to restore the old behavior.\n"
     ]
    }
   ],
   "source": [
    "xgbmodel=xgb_reg.fit(X,y)"
   ]
  },
  {
   "cell_type": "code",
   "execution_count": 165,
   "id": "59fce574",
   "metadata": {},
   "outputs": [
    {
     "data": {
      "text/plain": [
       "0.9904028608962195"
      ]
     },
     "execution_count": 165,
     "metadata": {},
     "output_type": "execute_result"
    }
   ],
   "source": [
    "xgbmodel.score(X,y)"
   ]
  },
  {
   "cell_type": "code",
   "execution_count": 166,
   "id": "c50d197b",
   "metadata": {},
   "outputs": [],
   "source": [
    "xgbpredict=xgbmodel.predict(hrtestdf)"
   ]
  },
  {
   "cell_type": "code",
   "execution_count": 167,
   "id": "e45aa6f1",
   "metadata": {},
   "outputs": [],
   "source": [
    "pd.DataFrame(xgbpredict).to_csv('xgb.csv')"
   ]
  },
  {
   "cell_type": "code",
   "execution_count": 168,
   "id": "f5aa25fa",
   "metadata": {},
   "outputs": [],
   "source": [
    "#xgboost score:  0.4812499"
   ]
  },
  {
   "cell_type": "code",
   "execution_count": 170,
   "id": "849d752b",
   "metadata": {},
   "outputs": [],
   "source": [
    "from sklearn.svm import SVC"
   ]
  },
  {
   "cell_type": "code",
   "execution_count": 171,
   "id": "bb2ebd41",
   "metadata": {},
   "outputs": [],
   "source": [
    "svm=SVC(C=0.80) #smaller C value the larger margin hyperplane"
   ]
  },
  {
   "cell_type": "code",
   "execution_count": 172,
   "id": "579204ab",
   "metadata": {},
   "outputs": [],
   "source": [
    "svmmodel=svm.fit(X,y)"
   ]
  },
  {
   "cell_type": "code",
   "execution_count": 173,
   "id": "15888310",
   "metadata": {},
   "outputs": [
    {
     "data": {
      "text/plain": [
       "0.9148299518318493"
      ]
     },
     "execution_count": 173,
     "metadata": {},
     "output_type": "execute_result"
    }
   ],
   "source": [
    "svmmodel.score(X,y)"
   ]
  },
  {
   "cell_type": "code",
   "execution_count": 174,
   "id": "2b47c750",
   "metadata": {},
   "outputs": [],
   "source": [
    "svmpredict=svmmodel.predict(hrtestdf)"
   ]
  },
  {
   "cell_type": "code",
   "execution_count": 175,
   "id": "4813f903",
   "metadata": {},
   "outputs": [],
   "source": [
    "pd.DataFrame(svmpredict).to_csv('svm.csv')"
   ]
  },
  {
   "cell_type": "code",
   "execution_count": null,
   "id": "ef83d585",
   "metadata": {},
   "outputs": [],
   "source": []
  },
  {
   "cell_type": "code",
   "execution_count": null,
   "id": "8452954e",
   "metadata": {},
   "outputs": [],
   "source": []
  },
  {
   "cell_type": "code",
   "execution_count": null,
   "id": "8e646247",
   "metadata": {},
   "outputs": [],
   "source": []
  },
  {
   "cell_type": "code",
   "execution_count": null,
   "id": "8215a381",
   "metadata": {},
   "outputs": [],
   "source": []
  },
  {
   "cell_type": "code",
   "execution_count": null,
   "id": "9b90ac50",
   "metadata": {},
   "outputs": [],
   "source": []
  },
  {
   "cell_type": "code",
   "execution_count": null,
   "id": "c68f3993",
   "metadata": {},
   "outputs": [],
   "source": []
  },
  {
   "cell_type": "code",
   "execution_count": null,
   "id": "93e9d58c",
   "metadata": {},
   "outputs": [],
   "source": []
  },
  {
   "cell_type": "code",
   "execution_count": null,
   "id": "9d696691",
   "metadata": {},
   "outputs": [],
   "source": []
  },
  {
   "cell_type": "code",
   "execution_count": null,
   "id": "3a2602df",
   "metadata": {},
   "outputs": [],
   "source": []
  },
  {
   "cell_type": "code",
   "execution_count": null,
   "id": "4600d1ea",
   "metadata": {},
   "outputs": [],
   "source": []
  }
 ],
 "metadata": {
  "kernelspec": {
   "display_name": "Python 3 (ipykernel)",
   "language": "python",
   "name": "python3"
  },
  "language_info": {
   "codemirror_mode": {
    "name": "ipython",
    "version": 3
   },
   "file_extension": ".py",
   "mimetype": "text/x-python",
   "name": "python",
   "nbconvert_exporter": "python",
   "pygments_lexer": "ipython3",
   "version": "3.9.12"
  },
  "varInspector": {
   "cols": {
    "lenName": 16,
    "lenType": 16,
    "lenVar": 40
   },
   "kernels_config": {
    "python": {
     "delete_cmd_postfix": "",
     "delete_cmd_prefix": "del ",
     "library": "var_list.py",
     "varRefreshCmd": "print(var_dic_list())"
    },
    "r": {
     "delete_cmd_postfix": ") ",
     "delete_cmd_prefix": "rm(",
     "library": "var_list.r",
     "varRefreshCmd": "cat(var_dic_list()) "
    }
   },
   "oldHeight": 451.85,
   "position": {
    "height": "473.85px",
    "left": "1129.2px",
    "right": "20px",
    "top": "120px",
    "width": "370px"
   },
   "types_to_exclude": [
    "module",
    "function",
    "builtin_function_or_method",
    "instance",
    "_Feature"
   ],
   "varInspector_section_display": "block",
   "window_display": false
  }
 },
 "nbformat": 4,
 "nbformat_minor": 5
}
